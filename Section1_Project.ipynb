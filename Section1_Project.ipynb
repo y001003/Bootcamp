{
  "nbformat": 4,
  "nbformat_minor": 0,
  "metadata": {
    "colab": {
      "name": "Section1_Project.ipynb",
      "provenance": [],
      "collapsed_sections": [],
      "authorship_tag": "ABX9TyPqUAjDzUicEhhjYKAvRvvQ",
      "include_colab_link": true
    },
    "kernelspec": {
      "name": "python3",
      "display_name": "Python 3"
    },
    "language_info": {
      "name": "python"
    }
  },
  "cells": [
    {
      "cell_type": "markdown",
      "metadata": {
        "id": "view-in-github",
        "colab_type": "text"
      },
      "source": [
        "<a href=\"https://colab.research.google.com/github/y001003/Bootcamp/blob/main/Section1_Project.ipynb\" target=\"_parent\"><img src=\"https://colab.research.google.com/assets/colab-badge.svg\" alt=\"Open In Colab\"/></a>"
      ]
    },
    {
      "cell_type": "markdown",
      "metadata": {
        "id": "JTD6T5uoGJ0p"
      },
      "source": [
        "**전처리**\n",
        "---\n",
        "- 판매량 단위 획일화\n",
        "- 결측치 처리\n",
        "---\n",
        "\n"
      ]
    },
    {
      "cell_type": "code",
      "metadata": {
        "colab": {
          "base_uri": "https://localhost:8080/"
        },
        "id": "mePR62fJ041Y",
        "outputId": "e476f87b-6b06-4728-d15f-7d25dab24994"
      },
      "source": [
        "from google.colab import drive\n",
        "drive.mount('/content/drive')"
      ],
      "execution_count": 1,
      "outputs": [
        {
          "output_type": "stream",
          "text": [
            "Drive already mounted at /content/drive; to attempt to forcibly remount, call drive.mount(\"/content/drive\", force_remount=True).\n"
          ],
          "name": "stdout"
        }
      ]
    },
    {
      "cell_type": "code",
      "metadata": {
        "colab": {
          "base_uri": "https://localhost:8080/"
        },
        "id": "eFfZ0jlnL3r3",
        "outputId": "86cea4cf-2954-45ae-8ad1-ec3ae528b6c0"
      },
      "source": [
        "!sudo apt-get install -y fonts-nanum\n",
        "!sudo fc-cache -fv\n",
        "!rm ~/.cache/matplotlib -rf"
      ],
      "execution_count": 2,
      "outputs": [
        {
          "output_type": "stream",
          "text": [
            "Reading package lists... Done\n",
            "Building dependency tree       \n",
            "Reading state information... Done\n",
            "fonts-nanum is already the newest version (20170925-1).\n",
            "0 upgraded, 0 newly installed, 0 to remove and 40 not upgraded.\n",
            "/usr/share/fonts: caching, new cache contents: 0 fonts, 1 dirs\n",
            "/usr/share/fonts/truetype: caching, new cache contents: 0 fonts, 3 dirs\n",
            "/usr/share/fonts/truetype/humor-sans: caching, new cache contents: 1 fonts, 0 dirs\n",
            "/usr/share/fonts/truetype/liberation: caching, new cache contents: 16 fonts, 0 dirs\n",
            "/usr/share/fonts/truetype/nanum: caching, new cache contents: 10 fonts, 0 dirs\n",
            "/usr/local/share/fonts: caching, new cache contents: 0 fonts, 0 dirs\n",
            "/root/.local/share/fonts: skipping, no such directory\n",
            "/root/.fonts: skipping, no such directory\n",
            "/var/cache/fontconfig: cleaning cache directory\n",
            "/root/.cache/fontconfig: not cleaning non-existent cache directory\n",
            "/root/.fontconfig: not cleaning non-existent cache directory\n",
            "fc-cache: succeeded\n"
          ],
          "name": "stdout"
        }
      ]
    },
    {
      "cell_type": "code",
      "metadata": {
        "colab": {
          "base_uri": "https://localhost:8080/",
          "height": 0
        },
        "id": "QpwX3lka1xTn",
        "outputId": "dbcf179a-99ac-4b8f-f8eb-0ffda57610f5"
      },
      "source": [
        "import pandas as pd\n",
        "import numpy as np\n",
        "\n",
        "path = '/content/drive/MyDrive/BootCamp/Section1_Project/vgames2.csv'\n",
        "df = pd.read_csv(path)\n",
        "\n",
        "df = df.iloc[:,1:]\n",
        "df"
      ],
      "execution_count": 3,
      "outputs": [
        {
          "output_type": "execute_result",
          "data": {
            "text/html": [
              "<div>\n",
              "<style scoped>\n",
              "    .dataframe tbody tr th:only-of-type {\n",
              "        vertical-align: middle;\n",
              "    }\n",
              "\n",
              "    .dataframe tbody tr th {\n",
              "        vertical-align: top;\n",
              "    }\n",
              "\n",
              "    .dataframe thead th {\n",
              "        text-align: right;\n",
              "    }\n",
              "</style>\n",
              "<table border=\"1\" class=\"dataframe\">\n",
              "  <thead>\n",
              "    <tr style=\"text-align: right;\">\n",
              "      <th></th>\n",
              "      <th>Name</th>\n",
              "      <th>Platform</th>\n",
              "      <th>Year</th>\n",
              "      <th>Genre</th>\n",
              "      <th>Publisher</th>\n",
              "      <th>NA_Sales</th>\n",
              "      <th>EU_Sales</th>\n",
              "      <th>JP_Sales</th>\n",
              "      <th>Other_Sales</th>\n",
              "    </tr>\n",
              "  </thead>\n",
              "  <tbody>\n",
              "    <tr>\n",
              "      <th>0</th>\n",
              "      <td>Candace Kane's Candy Factory</td>\n",
              "      <td>DS</td>\n",
              "      <td>2008.0</td>\n",
              "      <td>Action</td>\n",
              "      <td>Destineer</td>\n",
              "      <td>0.04</td>\n",
              "      <td>0</td>\n",
              "      <td>0</td>\n",
              "      <td>0</td>\n",
              "    </tr>\n",
              "    <tr>\n",
              "      <th>1</th>\n",
              "      <td>The Munchables</td>\n",
              "      <td>Wii</td>\n",
              "      <td>2009.0</td>\n",
              "      <td>Action</td>\n",
              "      <td>Namco Bandai Games</td>\n",
              "      <td>0.17</td>\n",
              "      <td>0</td>\n",
              "      <td>0</td>\n",
              "      <td>0.01</td>\n",
              "    </tr>\n",
              "    <tr>\n",
              "      <th>2</th>\n",
              "      <td>Otome wa Oanesama Boku ni Koi Shiteru Portable</td>\n",
              "      <td>PSP</td>\n",
              "      <td>2010.0</td>\n",
              "      <td>Adventure</td>\n",
              "      <td>Alchemist</td>\n",
              "      <td>0</td>\n",
              "      <td>0</td>\n",
              "      <td>0.02</td>\n",
              "      <td>0</td>\n",
              "    </tr>\n",
              "    <tr>\n",
              "      <th>3</th>\n",
              "      <td>Deal or No Deal: Special Edition</td>\n",
              "      <td>DS</td>\n",
              "      <td>2010.0</td>\n",
              "      <td>Misc</td>\n",
              "      <td>Zoo Games</td>\n",
              "      <td>0.04</td>\n",
              "      <td>0</td>\n",
              "      <td>0</td>\n",
              "      <td>0</td>\n",
              "    </tr>\n",
              "    <tr>\n",
              "      <th>4</th>\n",
              "      <td>Ben 10 Ultimate Alien: Cosmic Destruction</td>\n",
              "      <td>PS3</td>\n",
              "      <td>2010.0</td>\n",
              "      <td>Platform</td>\n",
              "      <td>D3Publisher</td>\n",
              "      <td>0.12</td>\n",
              "      <td>0.09</td>\n",
              "      <td>0</td>\n",
              "      <td>0.04</td>\n",
              "    </tr>\n",
              "    <tr>\n",
              "      <th>...</th>\n",
              "      <td>...</td>\n",
              "      <td>...</td>\n",
              "      <td>...</td>\n",
              "      <td>...</td>\n",
              "      <td>...</td>\n",
              "      <td>...</td>\n",
              "      <td>...</td>\n",
              "      <td>...</td>\n",
              "      <td>...</td>\n",
              "    </tr>\n",
              "    <tr>\n",
              "      <th>16593</th>\n",
              "      <td>Ice Age 2: The Meltdown</td>\n",
              "      <td>GC</td>\n",
              "      <td>2006.0</td>\n",
              "      <td>Platform</td>\n",
              "      <td>Vivendi Games</td>\n",
              "      <td>0.15</td>\n",
              "      <td>0.04</td>\n",
              "      <td>0</td>\n",
              "      <td>0.01</td>\n",
              "    </tr>\n",
              "    <tr>\n",
              "      <th>16594</th>\n",
              "      <td>Rainbow Islands: Revolution</td>\n",
              "      <td>PSP</td>\n",
              "      <td>2005.0</td>\n",
              "      <td>Action</td>\n",
              "      <td>Rising Star Games</td>\n",
              "      <td>0.01</td>\n",
              "      <td>0</td>\n",
              "      <td>0</td>\n",
              "      <td>0</td>\n",
              "    </tr>\n",
              "    <tr>\n",
              "      <th>16595</th>\n",
              "      <td>NBA 2K16</td>\n",
              "      <td>PS3</td>\n",
              "      <td>2015.0</td>\n",
              "      <td>Sports</td>\n",
              "      <td>Take-Two Interactive</td>\n",
              "      <td>0.44</td>\n",
              "      <td>0.19</td>\n",
              "      <td>0.03</td>\n",
              "      <td>0.13</td>\n",
              "    </tr>\n",
              "    <tr>\n",
              "      <th>16596</th>\n",
              "      <td>Toukiden: The Age of Demons</td>\n",
              "      <td>PSV</td>\n",
              "      <td>2013.0</td>\n",
              "      <td>Action</td>\n",
              "      <td>Tecmo Koei</td>\n",
              "      <td>0.05</td>\n",
              "      <td>0.05</td>\n",
              "      <td>0.25</td>\n",
              "      <td>0.03</td>\n",
              "    </tr>\n",
              "    <tr>\n",
              "      <th>16597</th>\n",
              "      <td>The King of Fighters '95</td>\n",
              "      <td>PS</td>\n",
              "      <td>1996.0</td>\n",
              "      <td>Fighting</td>\n",
              "      <td>Sony Computer Entertainment</td>\n",
              "      <td>0</td>\n",
              "      <td>0</td>\n",
              "      <td>0.16</td>\n",
              "      <td>0.01</td>\n",
              "    </tr>\n",
              "  </tbody>\n",
              "</table>\n",
              "<p>16598 rows × 9 columns</p>\n",
              "</div>"
            ],
            "text/plain": [
              "                                                 Name  ... Other_Sales\n",
              "0                        Candace Kane's Candy Factory  ...           0\n",
              "1                                      The Munchables  ...        0.01\n",
              "2      Otome wa Oanesama Boku ni Koi Shiteru Portable  ...           0\n",
              "3                    Deal or No Deal: Special Edition  ...           0\n",
              "4           Ben 10 Ultimate Alien: Cosmic Destruction  ...        0.04\n",
              "...                                               ...  ...         ...\n",
              "16593                         Ice Age 2: The Meltdown  ...        0.01\n",
              "16594                     Rainbow Islands: Revolution  ...           0\n",
              "16595                                        NBA 2K16  ...        0.13\n",
              "16596                     Toukiden: The Age of Demons  ...        0.03\n",
              "16597                        The King of Fighters '95  ...        0.01\n",
              "\n",
              "[16598 rows x 9 columns]"
            ]
          },
          "metadata": {
            "tags": []
          },
          "execution_count": 3
        }
      ]
    },
    {
      "cell_type": "markdown",
      "metadata": {
        "id": "It4fXD7XHV8Y"
      },
      "source": [
        "\n",
        "**- 판매량 단위 획일화**\n",
        "---\n",
        "\n"
      ]
    },
    {
      "cell_type": "code",
      "metadata": {
        "colab": {
          "base_uri": "https://localhost:8080/"
        },
        "id": "SUuiMGzU3NcX",
        "outputId": "46684160-f105-4253-b15b-2975ab0ea8db"
      },
      "source": [
        "# 전처리_ Sales 값의 단위 통일(M : 삭제, K : /1000)\n",
        "sales = df.loc[:,'NA_Sales':'Other_Sales']\n",
        "\n",
        "# M, K 값 포함 index 찾아서 변환\n",
        "def string_replace_float(x) :\n",
        "  # find()에서 포함되어있지 않으면 -1값이 나온다.\n",
        "  # if 값이 -1이 아닌경우 찾는 값이 포함되어 있다는 뜻\n",
        "  if str(x).find(\"K\") != -1 :\n",
        "    x = str(x).replace(\"K\",'')\n",
        "    return float(x) / 1000\n",
        "\n",
        "  if str(x).find(\"M\") != -1 :\n",
        "    x = str(x).replace(\"M\",'')\n",
        "    return float(x)\n",
        "\n",
        "  return float(x)\n",
        "\n",
        "sales['NA_Sales'] = sales['NA_Sales'].apply(string_replace_float)\n",
        "sales['EU_Sales'] = sales['EU_Sales'].apply(string_replace_float)\n",
        "sales['JP_Sales'] = sales['JP_Sales'].apply(string_replace_float)\n",
        "sales['Other_Sales'] = sales['Other_Sales'].apply(string_replace_float)\n",
        "\n",
        "df.loc[:,'NA_Sales':'Other_Sales'] = sales\n",
        "df.dtypes"
      ],
      "execution_count": 4,
      "outputs": [
        {
          "output_type": "execute_result",
          "data": {
            "text/plain": [
              "Name            object\n",
              "Platform        object\n",
              "Year           float64\n",
              "Genre           object\n",
              "Publisher       object\n",
              "NA_Sales       float64\n",
              "EU_Sales       float64\n",
              "JP_Sales       float64\n",
              "Other_Sales    float64\n",
              "dtype: object"
            ]
          },
          "metadata": {
            "tags": []
          },
          "execution_count": 4
        }
      ]
    },
    {
      "cell_type": "code",
      "metadata": {
        "colab": {
          "base_uri": "https://localhost:8080/"
        },
        "id": "WnYAkuZIO5dL",
        "outputId": "20e32407-b8a6-439c-80ec-3f6d59912895"
      },
      "source": [
        "# 전처리_결측값 처리\n",
        "print(\"변경 전 결측치 \\n\",df.isnull().sum())\n",
        "\n",
        "# Year 결측치는 0 : unkown으로 대체\n",
        "df['Year'] = df['Year'].fillna(0)\n",
        "# Genre 결측치는 Misc으로 변경\n",
        "df['Genre'] = df['Genre'].fillna('Unknown')\n",
        "# Publisher 결측치는 Unkown으로 대체\n",
        "df['Publisher'] = df['Publisher'].fillna('Unknown')\n",
        "\n",
        "print(\"변경 후 결측치 \\n\",df.isnull().sum())"
      ],
      "execution_count": 5,
      "outputs": [
        {
          "output_type": "stream",
          "text": [
            "변경 전 결측치 \n",
            " Name             0\n",
            "Platform         0\n",
            "Year           271\n",
            "Genre           50\n",
            "Publisher       58\n",
            "NA_Sales         0\n",
            "EU_Sales         0\n",
            "JP_Sales         0\n",
            "Other_Sales      0\n",
            "dtype: int64\n",
            "변경 후 결측치 \n",
            " Name           0\n",
            "Platform       0\n",
            "Year           0\n",
            "Genre          0\n",
            "Publisher      0\n",
            "NA_Sales       0\n",
            "EU_Sales       0\n",
            "JP_Sales       0\n",
            "Other_Sales    0\n",
            "dtype: int64\n"
          ],
          "name": "stdout"
        }
      ]
    },
    {
      "cell_type": "markdown",
      "metadata": {
        "id": "SgstfCZuHrdg"
      },
      "source": [
        "**- 결측치 처리**\n",
        "---\n",
        "\n"
      ]
    },
    {
      "cell_type": "code",
      "metadata": {
        "colab": {
          "base_uri": "https://localhost:8080/"
        },
        "id": "JWHaNKoVSDNx",
        "outputId": "54c1effc-2c52-400b-8af3-f963776ffb42"
      },
      "source": [
        "# 결측치 변경 타당성 검토\n",
        "sum = df.loc[:,'NA_Sales':'Other_Sales'].sum()\n",
        "\n",
        "# Year에 대하여\n",
        "year_0 = df.loc[:,'NA_Sales':'Other_Sales'].loc[df['Year'] == 0].sum()\n",
        "print(\"Year 0이 차지하는 정도 \\n\",year_0 / sum)\n",
        "print(\"연도별 트렌드의 흐름을 파악하는데 있어서 크리티컬한 볼륨을 가진 데이터가 아니다\")\n",
        "print(\"약 1%정도의 데이터를 가지고 트렌드가 변화가 아주 유의미하다고 보기 힘들다.\\n\")\n",
        "\n",
        "# Genre에 대하여\n",
        "Unknown_g = df.loc[:,'NA_Sales':'Other_Sales'].loc[df['Genre'] == 'Unknown'].sum()\n",
        "print(\"Unknown 이 차지하는 정도 \\n\", Unknown_g / sum)\n",
        "print(\"지역별 가장 선호하는 장르를 파악하는 데이터 분석에 있어서 크리티컬한 볼륨을 가진 데이터가 아니다.\\n\")\n",
        "\n",
        "# Publisher에 대하여\n",
        "Unknown_p = df.loc[:,'NA_Sales':'Other_Sales'].loc[df['Publisher'] == 'Unknown'].sum()\n",
        "print(\"Unknown 이 차지하는 정도 \\n\", Unknown_p / sum)\n",
        "print(\"데이터 분석에 있어서 크리티컬한 볼륨을 가진 데이터가 아니다.\\n\")"
      ],
      "execution_count": 6,
      "outputs": [
        {
          "output_type": "stream",
          "text": [
            "Year 0이 차지하는 정도 \n",
            " NA_Sales       0.013563\n",
            "EU_Sales       0.010291\n",
            "JP_Sales       0.005360\n",
            "Other_Sales    0.010968\n",
            "dtype: float64\n",
            "연도별 트렌드의 흐름을 파악하는데 있어서 크리티컬한 볼륨을 가진 데이터가 아니다\n",
            "약 1%정도의 데이터를 가지고 트렌드가 변화가 아주 유의미하다고 보기 힘들다.\n",
            "\n",
            "Unknown 이 차지하는 정도 \n",
            " NA_Sales       0.004692\n",
            "EU_Sales       0.005390\n",
            "JP_Sales       0.009977\n",
            "Other_Sales    0.006945\n",
            "dtype: float64\n",
            "지역별 가장 선호하는 장르를 파악하는 데이터 분석에 있어서 크리티컬한 볼륨을 가진 데이터가 아니다.\n",
            "\n",
            "Unknown 이 차지하는 정도 \n",
            " NA_Sales       0.006153\n",
            "EU_Sales       0.005016\n",
            "JP_Sales       0.005414\n",
            "Other_Sales    0.003949\n",
            "dtype: float64\n",
            "데이터 분석에 있어서 크리티컬한 볼륨을 가진 데이터가 아니다.\n",
            "\n"
          ],
          "name": "stdout"
        }
      ]
    },
    {
      "cell_type": "markdown",
      "metadata": {
        "id": "MHUgeKXoE2Y4"
      },
      "source": [
        "---\n",
        "문제\n",
        "1. 지역에 따라서 선호하는 게임 장르가 다를까 라는 질문에 대답을 하셔야합니다.\n",
        "\n",
        "2. 연도별 게임의 트렌드가 있을까 라는 질문에 대답을 하셔야합니다.\n",
        "\n",
        "3. 출고량이 높은 게임에 대한 분석 및 시각화 프로세스가 포함되어야 합니다.\n",
        "---\n",
        "\n"
      ]
    },
    {
      "cell_type": "markdown",
      "metadata": {
        "id": "9u8AdK_PHDyr"
      },
      "source": [
        "\n",
        "**1. 지역에 따라서 선호하는 게임 장르가 다를까**\n",
        "---\n",
        "\n"
      ]
    },
    {
      "cell_type": "code",
      "metadata": {
        "colab": {
          "base_uri": "https://localhost:8080/",
          "height": 483
        },
        "id": "mcIc2S3KEjr8",
        "outputId": "5d230449-451a-4548-f34e-47c868792d05"
      },
      "source": [
        "grouped_genre = df.loc[:,'NA_Sales':'Other_Sales'].groupby(df['Genre']).sum()\n",
        "grouped_genre"
      ],
      "execution_count": 7,
      "outputs": [
        {
          "output_type": "execute_result",
          "data": {
            "text/html": [
              "<div>\n",
              "<style scoped>\n",
              "    .dataframe tbody tr th:only-of-type {\n",
              "        vertical-align: middle;\n",
              "    }\n",
              "\n",
              "    .dataframe tbody tr th {\n",
              "        vertical-align: top;\n",
              "    }\n",
              "\n",
              "    .dataframe thead th {\n",
              "        text-align: right;\n",
              "    }\n",
              "</style>\n",
              "<table border=\"1\" class=\"dataframe\">\n",
              "  <thead>\n",
              "    <tr style=\"text-align: right;\">\n",
              "      <th></th>\n",
              "      <th>NA_Sales</th>\n",
              "      <th>EU_Sales</th>\n",
              "      <th>JP_Sales</th>\n",
              "      <th>Other_Sales</th>\n",
              "    </tr>\n",
              "    <tr>\n",
              "      <th>Genre</th>\n",
              "      <th></th>\n",
              "      <th></th>\n",
              "      <th></th>\n",
              "      <th></th>\n",
              "    </tr>\n",
              "  </thead>\n",
              "  <tbody>\n",
              "    <tr>\n",
              "      <th>Action</th>\n",
              "      <td>874.81</td>\n",
              "      <td>522.16</td>\n",
              "      <td>157.90</td>\n",
              "      <td>186.45</td>\n",
              "    </tr>\n",
              "    <tr>\n",
              "      <th>Adventure</th>\n",
              "      <td>105.66</td>\n",
              "      <td>64.05</td>\n",
              "      <td>51.95</td>\n",
              "      <td>16.81</td>\n",
              "    </tr>\n",
              "    <tr>\n",
              "      <th>Fighting</th>\n",
              "      <td>223.20</td>\n",
              "      <td>101.22</td>\n",
              "      <td>87.34</td>\n",
              "      <td>36.64</td>\n",
              "    </tr>\n",
              "    <tr>\n",
              "      <th>Misc</th>\n",
              "      <td>408.05</td>\n",
              "      <td>212.36</td>\n",
              "      <td>105.27</td>\n",
              "      <td>74.04</td>\n",
              "    </tr>\n",
              "    <tr>\n",
              "      <th>Platform</th>\n",
              "      <td>446.44</td>\n",
              "      <td>201.61</td>\n",
              "      <td>130.65</td>\n",
              "      <td>51.53</td>\n",
              "    </tr>\n",
              "    <tr>\n",
              "      <th>Puzzle</th>\n",
              "      <td>123.35</td>\n",
              "      <td>50.73</td>\n",
              "      <td>56.87</td>\n",
              "      <td>12.52</td>\n",
              "    </tr>\n",
              "    <tr>\n",
              "      <th>Racing</th>\n",
              "      <td>357.19</td>\n",
              "      <td>237.10</td>\n",
              "      <td>56.40</td>\n",
              "      <td>77.10</td>\n",
              "    </tr>\n",
              "    <tr>\n",
              "      <th>Role-Playing</th>\n",
              "      <td>319.54</td>\n",
              "      <td>183.58</td>\n",
              "      <td>344.95</td>\n",
              "      <td>56.96</td>\n",
              "    </tr>\n",
              "    <tr>\n",
              "      <th>Shooter</th>\n",
              "      <td>581.92</td>\n",
              "      <td>313.05</td>\n",
              "      <td>38.28</td>\n",
              "      <td>102.65</td>\n",
              "    </tr>\n",
              "    <tr>\n",
              "      <th>Simulation</th>\n",
              "      <td>182.96</td>\n",
              "      <td>113.35</td>\n",
              "      <td>63.70</td>\n",
              "      <td>31.48</td>\n",
              "    </tr>\n",
              "    <tr>\n",
              "      <th>Sports</th>\n",
              "      <td>680.52</td>\n",
              "      <td>376.48</td>\n",
              "      <td>135.37</td>\n",
              "      <td>134.67</td>\n",
              "    </tr>\n",
              "    <tr>\n",
              "      <th>Strategy</th>\n",
              "      <td>68.70</td>\n",
              "      <td>45.32</td>\n",
              "      <td>49.46</td>\n",
              "      <td>11.36</td>\n",
              "    </tr>\n",
              "    <tr>\n",
              "      <th>Unknown</th>\n",
              "      <td>20.61</td>\n",
              "      <td>13.12</td>\n",
              "      <td>12.88</td>\n",
              "      <td>5.54</td>\n",
              "    </tr>\n",
              "  </tbody>\n",
              "</table>\n",
              "</div>"
            ],
            "text/plain": [
              "              NA_Sales  EU_Sales  JP_Sales  Other_Sales\n",
              "Genre                                                  \n",
              "Action          874.81    522.16    157.90       186.45\n",
              "Adventure       105.66     64.05     51.95        16.81\n",
              "Fighting        223.20    101.22     87.34        36.64\n",
              "Misc            408.05    212.36    105.27        74.04\n",
              "Platform        446.44    201.61    130.65        51.53\n",
              "Puzzle          123.35     50.73     56.87        12.52\n",
              "Racing          357.19    237.10     56.40        77.10\n",
              "Role-Playing    319.54    183.58    344.95        56.96\n",
              "Shooter         581.92    313.05     38.28       102.65\n",
              "Simulation      182.96    113.35     63.70        31.48\n",
              "Sports          680.52    376.48    135.37       134.67\n",
              "Strategy         68.70     45.32     49.46        11.36\n",
              "Unknown          20.61     13.12     12.88         5.54"
            ]
          },
          "metadata": {
            "tags": []
          },
          "execution_count": 7
        }
      ]
    },
    {
      "cell_type": "code",
      "metadata": {
        "colab": {
          "base_uri": "https://localhost:8080/",
          "height": 353
        },
        "id": "0O09oRvi7PEx",
        "outputId": "c4810d9e-ba35-4b26-e18f-90e89deb098b"
      },
      "source": [
        "# 각 지역의 장르별 Top5 나타내기\n",
        "NA_top = grouped_genre['NA_Sales'].sort_values(ascending=False,inplace=False)\n",
        "NA_index = NA_top.index\n",
        "NA_top.reset_index(drop=True,inplace=True)# region_top_data 를 위해 top 수치데이들을 합칠 때, 서로다른 index로 인해 꼬임 방지\n",
        "\n",
        "EU_top = grouped_genre['EU_Sales'].sort_values(ascending=False,inplace=False)\n",
        "EU_index = EU_top.index\n",
        "EU_top.reset_index(drop=True,inplace=True)\n",
        "\n",
        "JP_top = grouped_genre['JP_Sales'].sort_values(ascending=False,inplace=False)\n",
        "JP_index = JP_top.index\n",
        "JP_top.reset_index(drop=True,inplace=True)\n",
        "\n",
        "Other_top = grouped_genre['Other_Sales'].sort_values(ascending=False,inplace=False)\n",
        "Other_index = Other_top.index\n",
        "Other_top.reset_index(drop=True,inplace=True)\n",
        "\n",
        "region_top = pd.DataFrame(data=[NA_index[0:5],EU_index[0:5],JP_index[0:5],Other_index[0:5]],index=['NA_Sales','EU_Sales','JP_Sales','Other_Sales'],columns=['Top1','Top2','Top3','Top4','Top5'])\n",
        "region_top_data = pd.DataFrame(data=[NA_top[0:5],EU_top[0:5],JP_top[0:5],Other_top[0:5]])\n",
        "\n",
        "print(region_top)\n",
        "print(region_top_data)\n",
        "\n",
        "region_top_data = round(region_top_data)\n",
        "region_top_data =region_top_data.astype(str)\n",
        "region_top['Top1'] = region_top['Top1'] +\"(\"+ region_top_data[0].str.rstrip('.0') + \"M)\"\n",
        "region_top['Top2'] = region_top['Top2'] +\"(\"+ region_top_data[1].str.rstrip('.0') + \"M)\"\n",
        "region_top['Top3'] = region_top['Top3'] +\"(\"+ region_top_data[2].str.rstrip('.0') + \"M)\"\n",
        "region_top['Top4'] = region_top['Top4'] +\"(\"+ region_top_data[3].str.rstrip('.0') + \"M)\"\n",
        "region_top['Top5'] = region_top['Top5'] +\"(\"+ region_top_data[4].str.rstrip('.0') + \"M)\"\n",
        "region_top"
      ],
      "execution_count": 105,
      "outputs": [
        {
          "output_type": "stream",
          "text": [
            "                     Top1    Top2     Top3      Top4  Top5\n",
            "NA_Sales           Action  Sports  Shooter  Platform  Misc\n",
            "EU_Sales           Action  Sports  Shooter    Racing  Misc\n",
            "JP_Sales     Role-Playing  Action   Sports  Platform  Misc\n",
            "Other_Sales        Action  Sports  Shooter    Racing  Misc\n",
            "                  0       1       2       3       4\n",
            "NA_Sales     874.81  680.52  581.92  446.44  408.05\n",
            "EU_Sales     522.16  376.48  313.05  237.10  212.36\n",
            "JP_Sales     344.95  157.90  135.37  130.65  105.27\n",
            "Other_Sales  186.45  134.67  102.65   77.10   74.04\n"
          ],
          "name": "stdout"
        },
        {
          "output_type": "execute_result",
          "data": {
            "text/html": [
              "<div>\n",
              "<style scoped>\n",
              "    .dataframe tbody tr th:only-of-type {\n",
              "        vertical-align: middle;\n",
              "    }\n",
              "\n",
              "    .dataframe tbody tr th {\n",
              "        vertical-align: top;\n",
              "    }\n",
              "\n",
              "    .dataframe thead th {\n",
              "        text-align: right;\n",
              "    }\n",
              "</style>\n",
              "<table border=\"1\" class=\"dataframe\">\n",
              "  <thead>\n",
              "    <tr style=\"text-align: right;\">\n",
              "      <th></th>\n",
              "      <th>Top1</th>\n",
              "      <th>Top2</th>\n",
              "      <th>Top3</th>\n",
              "      <th>Top4</th>\n",
              "      <th>Top5</th>\n",
              "    </tr>\n",
              "  </thead>\n",
              "  <tbody>\n",
              "    <tr>\n",
              "      <th>NA_Sales</th>\n",
              "      <td>Action(875M)</td>\n",
              "      <td>Sports(681M)</td>\n",
              "      <td>Shooter(582M)</td>\n",
              "      <td>Platform(446M)</td>\n",
              "      <td>Misc(408M)</td>\n",
              "    </tr>\n",
              "    <tr>\n",
              "      <th>EU_Sales</th>\n",
              "      <td>Action(522M)</td>\n",
              "      <td>Sports(376M)</td>\n",
              "      <td>Shooter(313M)</td>\n",
              "      <td>Racing(237M)</td>\n",
              "      <td>Misc(212M)</td>\n",
              "    </tr>\n",
              "    <tr>\n",
              "      <th>JP_Sales</th>\n",
              "      <td>Role-Playing(345M)</td>\n",
              "      <td>Action(158M)</td>\n",
              "      <td>Sports(135M)</td>\n",
              "      <td>Platform(131M)</td>\n",
              "      <td>Misc(105M)</td>\n",
              "    </tr>\n",
              "    <tr>\n",
              "      <th>Other_Sales</th>\n",
              "      <td>Action(186M)</td>\n",
              "      <td>Sports(135M)</td>\n",
              "      <td>Shooter(103M)</td>\n",
              "      <td>Racing(77M)</td>\n",
              "      <td>Misc(74M)</td>\n",
              "    </tr>\n",
              "  </tbody>\n",
              "</table>\n",
              "</div>"
            ],
            "text/plain": [
              "                           Top1          Top2  ...            Top4        Top5\n",
              "NA_Sales           Action(875M)  Sports(681M)  ...  Platform(446M)  Misc(408M)\n",
              "EU_Sales           Action(522M)  Sports(376M)  ...    Racing(237M)  Misc(212M)\n",
              "JP_Sales     Role-Playing(345M)  Action(158M)  ...  Platform(131M)  Misc(105M)\n",
              "Other_Sales        Action(186M)  Sports(135M)  ...     Racing(77M)   Misc(74M)\n",
              "\n",
              "[4 rows x 5 columns]"
            ]
          },
          "metadata": {
            "tags": []
          },
          "execution_count": 105
        }
      ]
    },
    {
      "cell_type": "code",
      "metadata": {
        "id": "NBYQzuScvYj9",
        "outputId": "27245429-055d-4048-ef5b-8a0f1f112c4b",
        "colab": {
          "base_uri": "https://localhost:8080/"
        }
      },
      "source": [
        "from scipy.stats import chi2_contingency\n",
        "\n",
        "print(\"장르와 지역은 서로 독립적인가(귀무가설) 카이제곱 검정\\n\")\n",
        "\n",
        "chi_result = chi2_contingency(grouped_genre)\n",
        "print('chi square: {}'.format(chi_result[0]))\n",
        "print('P-value: {}'.format(chi_result[1]))\n",
        "\n",
        "print(\"P-value 값이 0.05보다 작음으로, 신뢰도 95% 수준에서 귀무가설인 장르와 지역은 서로 독립적이라는 가정은 기각 할 수 있다.\")\n",
        "print(\"즉 게임장르와 지역차이는 서로 관련성이 있을 가능성이 높다\")"
      ],
      "execution_count": 114,
      "outputs": [
        {
          "output_type": "stream",
          "text": [
            "장르와 지역은 서로 독립적인가(귀무가설) 카이제곱 검정\n",
            "\n",
            "chi square: 699.5476276256018\n",
            "P-value: 6.45728720266605e-124\n",
            "P-value 값이 0.05보다 작음으로, 신뢰도 95% 수준에서 귀무가설인 장르와 지역은 서로 독립적이라는 가정은 기각 할 수 있다.\n",
            "즉 게임장르와 지역은 서로 관련성이 있을 가능성이 높다\n"
          ],
          "name": "stdout"
        }
      ]
    },
    {
      "cell_type": "code",
      "metadata": {
        "id": "BNti_qsPxtUI",
        "outputId": "66ebeb49-a5ae-4b3b-81fd-831998fcbd80",
        "colab": {
          "base_uri": "https://localhost:8080/",
          "height": 191
        }
      },
      "source": [
        "print(\"미국과 유럽의 판매량 상관관계가 1에 근접할 정도로 매우 높게 나왔으며, 가장 선호하는 장르 Top3가 '액션', '스포츠', '슈팅'순으로 동일했다.\")\n",
        "print(\"일본은 다른 지역에 비해 롤플레이잉 장르의 선호도가 1순위일 정도로 높았다. 이후 순위는 액션, 스포츠 순으로 다른 지역과 비슷한 경향을 보였다.\")\n",
        "grouped_genre.corr()"
      ],
      "execution_count": 116,
      "outputs": [
        {
          "output_type": "stream",
          "text": [
            "미국과 유럽의 판매량 상관관계가 1에 근접할 정도로 매우 높게 나왔으며, 가장 선호하는 장르 Top3가 '액션', '스포츠', '슈팅'순으로 동일했다.\n"
          ],
          "name": "stdout"
        },
        {
          "output_type": "execute_result",
          "data": {
            "text/html": [
              "<div>\n",
              "<style scoped>\n",
              "    .dataframe tbody tr th:only-of-type {\n",
              "        vertical-align: middle;\n",
              "    }\n",
              "\n",
              "    .dataframe tbody tr th {\n",
              "        vertical-align: top;\n",
              "    }\n",
              "\n",
              "    .dataframe thead th {\n",
              "        text-align: right;\n",
              "    }\n",
              "</style>\n",
              "<table border=\"1\" class=\"dataframe\">\n",
              "  <thead>\n",
              "    <tr style=\"text-align: right;\">\n",
              "      <th></th>\n",
              "      <th>NA_Sales</th>\n",
              "      <th>EU_Sales</th>\n",
              "      <th>JP_Sales</th>\n",
              "      <th>Other_Sales</th>\n",
              "    </tr>\n",
              "  </thead>\n",
              "  <tbody>\n",
              "    <tr>\n",
              "      <th>NA_Sales</th>\n",
              "      <td>1.000000</td>\n",
              "      <td>0.988239</td>\n",
              "      <td>0.362482</td>\n",
              "      <td>0.976224</td>\n",
              "    </tr>\n",
              "    <tr>\n",
              "      <th>EU_Sales</th>\n",
              "      <td>0.988239</td>\n",
              "      <td>1.000000</td>\n",
              "      <td>0.354295</td>\n",
              "      <td>0.994021</td>\n",
              "    </tr>\n",
              "    <tr>\n",
              "      <th>JP_Sales</th>\n",
              "      <td>0.362482</td>\n",
              "      <td>0.354295</td>\n",
              "      <td>1.000000</td>\n",
              "      <td>0.333167</td>\n",
              "    </tr>\n",
              "    <tr>\n",
              "      <th>Other_Sales</th>\n",
              "      <td>0.976224</td>\n",
              "      <td>0.994021</td>\n",
              "      <td>0.333167</td>\n",
              "      <td>1.000000</td>\n",
              "    </tr>\n",
              "  </tbody>\n",
              "</table>\n",
              "</div>"
            ],
            "text/plain": [
              "             NA_Sales  EU_Sales  JP_Sales  Other_Sales\n",
              "NA_Sales     1.000000  0.988239  0.362482     0.976224\n",
              "EU_Sales     0.988239  1.000000  0.354295     0.994021\n",
              "JP_Sales     0.362482  0.354295  1.000000     0.333167\n",
              "Other_Sales  0.976224  0.994021  0.333167     1.000000"
            ]
          },
          "metadata": {
            "tags": []
          },
          "execution_count": 116
        }
      ]
    },
    {
      "cell_type": "code",
      "metadata": {
        "id": "YyFwVO8brDzb",
        "outputId": "81c8478b-764c-4336-e4db-3f3d9ee060ae",
        "colab": {
          "base_uri": "https://localhost:8080/",
          "height": 483
        }
      },
      "source": [
        "grouped_genre"
      ],
      "execution_count": 117,
      "outputs": [
        {
          "output_type": "execute_result",
          "data": {
            "text/html": [
              "<div>\n",
              "<style scoped>\n",
              "    .dataframe tbody tr th:only-of-type {\n",
              "        vertical-align: middle;\n",
              "    }\n",
              "\n",
              "    .dataframe tbody tr th {\n",
              "        vertical-align: top;\n",
              "    }\n",
              "\n",
              "    .dataframe thead th {\n",
              "        text-align: right;\n",
              "    }\n",
              "</style>\n",
              "<table border=\"1\" class=\"dataframe\">\n",
              "  <thead>\n",
              "    <tr style=\"text-align: right;\">\n",
              "      <th></th>\n",
              "      <th>NA_Sales</th>\n",
              "      <th>EU_Sales</th>\n",
              "      <th>JP_Sales</th>\n",
              "      <th>Other_Sales</th>\n",
              "    </tr>\n",
              "    <tr>\n",
              "      <th>Genre</th>\n",
              "      <th></th>\n",
              "      <th></th>\n",
              "      <th></th>\n",
              "      <th></th>\n",
              "    </tr>\n",
              "  </thead>\n",
              "  <tbody>\n",
              "    <tr>\n",
              "      <th>Action</th>\n",
              "      <td>874.81</td>\n",
              "      <td>522.16</td>\n",
              "      <td>157.90</td>\n",
              "      <td>186.45</td>\n",
              "    </tr>\n",
              "    <tr>\n",
              "      <th>Adventure</th>\n",
              "      <td>105.66</td>\n",
              "      <td>64.05</td>\n",
              "      <td>51.95</td>\n",
              "      <td>16.81</td>\n",
              "    </tr>\n",
              "    <tr>\n",
              "      <th>Fighting</th>\n",
              "      <td>223.20</td>\n",
              "      <td>101.22</td>\n",
              "      <td>87.34</td>\n",
              "      <td>36.64</td>\n",
              "    </tr>\n",
              "    <tr>\n",
              "      <th>Misc</th>\n",
              "      <td>408.05</td>\n",
              "      <td>212.36</td>\n",
              "      <td>105.27</td>\n",
              "      <td>74.04</td>\n",
              "    </tr>\n",
              "    <tr>\n",
              "      <th>Platform</th>\n",
              "      <td>446.44</td>\n",
              "      <td>201.61</td>\n",
              "      <td>130.65</td>\n",
              "      <td>51.53</td>\n",
              "    </tr>\n",
              "    <tr>\n",
              "      <th>Puzzle</th>\n",
              "      <td>123.35</td>\n",
              "      <td>50.73</td>\n",
              "      <td>56.87</td>\n",
              "      <td>12.52</td>\n",
              "    </tr>\n",
              "    <tr>\n",
              "      <th>Racing</th>\n",
              "      <td>357.19</td>\n",
              "      <td>237.10</td>\n",
              "      <td>56.40</td>\n",
              "      <td>77.10</td>\n",
              "    </tr>\n",
              "    <tr>\n",
              "      <th>Role-Playing</th>\n",
              "      <td>319.54</td>\n",
              "      <td>183.58</td>\n",
              "      <td>344.95</td>\n",
              "      <td>56.96</td>\n",
              "    </tr>\n",
              "    <tr>\n",
              "      <th>Shooter</th>\n",
              "      <td>581.92</td>\n",
              "      <td>313.05</td>\n",
              "      <td>38.28</td>\n",
              "      <td>102.65</td>\n",
              "    </tr>\n",
              "    <tr>\n",
              "      <th>Simulation</th>\n",
              "      <td>182.96</td>\n",
              "      <td>113.35</td>\n",
              "      <td>63.70</td>\n",
              "      <td>31.48</td>\n",
              "    </tr>\n",
              "    <tr>\n",
              "      <th>Sports</th>\n",
              "      <td>680.52</td>\n",
              "      <td>376.48</td>\n",
              "      <td>135.37</td>\n",
              "      <td>134.67</td>\n",
              "    </tr>\n",
              "    <tr>\n",
              "      <th>Strategy</th>\n",
              "      <td>68.70</td>\n",
              "      <td>45.32</td>\n",
              "      <td>49.46</td>\n",
              "      <td>11.36</td>\n",
              "    </tr>\n",
              "    <tr>\n",
              "      <th>Unknown</th>\n",
              "      <td>20.61</td>\n",
              "      <td>13.12</td>\n",
              "      <td>12.88</td>\n",
              "      <td>5.54</td>\n",
              "    </tr>\n",
              "  </tbody>\n",
              "</table>\n",
              "</div>"
            ],
            "text/plain": [
              "              NA_Sales  EU_Sales  JP_Sales  Other_Sales\n",
              "Genre                                                  \n",
              "Action          874.81    522.16    157.90       186.45\n",
              "Adventure       105.66     64.05     51.95        16.81\n",
              "Fighting        223.20    101.22     87.34        36.64\n",
              "Misc            408.05    212.36    105.27        74.04\n",
              "Platform        446.44    201.61    130.65        51.53\n",
              "Puzzle          123.35     50.73     56.87        12.52\n",
              "Racing          357.19    237.10     56.40        77.10\n",
              "Role-Playing    319.54    183.58    344.95        56.96\n",
              "Shooter         581.92    313.05     38.28       102.65\n",
              "Simulation      182.96    113.35     63.70        31.48\n",
              "Sports          680.52    376.48    135.37       134.67\n",
              "Strategy         68.70     45.32     49.46        11.36\n",
              "Unknown          20.61     13.12     12.88         5.54"
            ]
          },
          "metadata": {
            "tags": []
          },
          "execution_count": 117
        }
      ]
    },
    {
      "cell_type": "code",
      "metadata": {
        "colab": {
          "base_uri": "https://localhost:8080/",
          "height": 512
        },
        "id": "qpvL4njzHiIO",
        "outputId": "69f59414-81bd-4d8d-c678-f4d38f8f35ac"
      },
      "source": [
        "import matplotlib.pyplot as plt\n",
        "\n",
        "plt.rc('font', family='NanumBarunGothic')\n",
        "plt.rc('axes', unicode_minus=False)\n",
        "\n",
        "grouped_genre.plot(kind=\"barh\",figsize=(12,8))\n",
        "\n",
        "plt.title(\"각 국가의 장르별 게임 판매량\")\n",
        "plt.xlabel(\"누적판매량(백만)\")\n",
        "plt.ylabel(\"장르\")\n",
        "plt.show()"
      ],
      "execution_count": 125,
      "outputs": [
        {
          "output_type": "display_data",
          "data": {
            "image/png": "[encoded data removed]",
            "text/plain": [
              "<Figure size 864x576 with 1 Axes>"
            ]
          },
          "metadata": {
            "tags": [],
            "needs_background": "light"
          }
        }
      ]
    },
    {
      "cell_type": "markdown",
      "metadata": {
        "id": "s-ebNmKCrLSw"
      },
      "source": [
        "**2. 연도별 게임의 트렌드가 있을까 라는 질문에 대답을 하셔야합니다.**\n",
        "---\n"
      ]
    },
    {
      "cell_type": "markdown",
      "metadata": {
        "id": "56s3DdWArkZw"
      },
      "source": [
        "연도별 게임 트렌드는 '연도별 가장 잘 팔린 게임 플랫폼과 게임 장르'를 확인한다.\n"
      ]
    },
    {
      "cell_type": "code",
      "metadata": {
        "id": "fjXexXAasuUj"
      },
      "source": [
        "df['World_Sales'] = df['NA_Sales'] + df['EU_Sales'] + df['JP_Sales'] + df['Other_Sales']\n",
        "year_trend = df['World_Sales'].groupby([df['Year']]).sum()\n",
        "\n",
        "# pd.set_option('display.max_rows', 500)\n",
        "years = year_trend[year_trend > year_trend.sum() * (1/1000) ] # Year데이터가 정확하게 분류되지 않음으로, 트렌드 계산에 있어서 0.1% 이하 년도 값을 지운다.\n",
        "\n",
        "# 연도 데이터 10 과 11은 각각 17.91 과 11.52로 0.1%보다 높지만 데이터 효율상 제거한다\n",
        "years = years[(years.index != 10) & (years.index != 11) & (years.index != 0) ]\n",
        "\n",
        "df = df[df['Year'].isin(years.index)]\n",
        "\n",
        "year_trend_p = df['World_Sales'].groupby([df['Year'],df['Platform']]).sum()\n",
        "year_trend_p_g = df['World_Sales'].groupby([df['Year'],df['Genre']]).sum()\n"
      ],
      "execution_count": 82,
      "outputs": []
    },
    {
      "cell_type": "code",
      "metadata": {
        "colab": {
          "base_uri": "https://localhost:8080/",
          "height": 0
        },
        "id": "W92drnjeAvuP",
        "outputId": "b6040253-308f-4341-db8f-2ff5268d5022"
      },
      "source": [
        "# 연도별 가장 잘 팔린 플랫폼\n",
        "df_trend_p = pd.DataFrame(year_trend_p)\n",
        "df_trend_p = pd.pivot_table(df_trend_p,columns='Platform',index='Year',values='World_Sales')\n",
        "\n",
        "# 연도별 가장 잘 팔린 장르\n",
        "df_trend_p_g = pd.DataFrame(year_trend_p_g)\n",
        "df_trend_p_g = pd.pivot_table(df_trend_p_g,columns='Genre',index='Year',values='World_Sales')\n",
        "# df_trend_p = df_trend_p/df_trend_p.sum(axis=1)\n",
        "df_trend_p.head()"
      ],
      "execution_count": 83,
      "outputs": [
        {
          "output_type": "execute_result",
          "data": {
            "text/html": [
              "<div>\n",
              "<style scoped>\n",
              "    .dataframe tbody tr th:only-of-type {\n",
              "        vertical-align: middle;\n",
              "    }\n",
              "\n",
              "    .dataframe tbody tr th {\n",
              "        vertical-align: top;\n",
              "    }\n",
              "\n",
              "    .dataframe thead th {\n",
              "        text-align: right;\n",
              "    }\n",
              "</style>\n",
              "<table border=\"1\" class=\"dataframe\">\n",
              "  <thead>\n",
              "    <tr style=\"text-align: right;\">\n",
              "      <th>Platform</th>\n",
              "      <th>2600</th>\n",
              "      <th>3DO</th>\n",
              "      <th>3DS</th>\n",
              "      <th>DC</th>\n",
              "      <th>DS</th>\n",
              "      <th>GB</th>\n",
              "      <th>GBA</th>\n",
              "      <th>GC</th>\n",
              "      <th>GEN</th>\n",
              "      <th>GG</th>\n",
              "      <th>N64</th>\n",
              "      <th>NES</th>\n",
              "      <th>NG</th>\n",
              "      <th>PC</th>\n",
              "      <th>PCFX</th>\n",
              "      <th>PS</th>\n",
              "      <th>PS2</th>\n",
              "      <th>PS3</th>\n",
              "      <th>PS4</th>\n",
              "      <th>PSP</th>\n",
              "      <th>PSV</th>\n",
              "      <th>SAT</th>\n",
              "      <th>SCD</th>\n",
              "      <th>SNES</th>\n",
              "      <th>TG16</th>\n",
              "      <th>WS</th>\n",
              "      <th>Wii</th>\n",
              "      <th>WiiU</th>\n",
              "      <th>X360</th>\n",
              "      <th>XB</th>\n",
              "      <th>XOne</th>\n",
              "    </tr>\n",
              "    <tr>\n",
              "      <th>Year</th>\n",
              "      <th></th>\n",
              "      <th></th>\n",
              "      <th></th>\n",
              "      <th></th>\n",
              "      <th></th>\n",
              "      <th></th>\n",
              "      <th></th>\n",
              "      <th></th>\n",
              "      <th></th>\n",
              "      <th></th>\n",
              "      <th></th>\n",
              "      <th></th>\n",
              "      <th></th>\n",
              "      <th></th>\n",
              "      <th></th>\n",
              "      <th></th>\n",
              "      <th></th>\n",
              "      <th></th>\n",
              "      <th></th>\n",
              "      <th></th>\n",
              "      <th></th>\n",
              "      <th></th>\n",
              "      <th></th>\n",
              "      <th></th>\n",
              "      <th></th>\n",
              "      <th></th>\n",
              "      <th></th>\n",
              "      <th></th>\n",
              "      <th></th>\n",
              "      <th></th>\n",
              "      <th></th>\n",
              "    </tr>\n",
              "  </thead>\n",
              "  <tbody>\n",
              "    <tr>\n",
              "      <th>1980.0</th>\n",
              "      <td>11.38</td>\n",
              "      <td>NaN</td>\n",
              "      <td>NaN</td>\n",
              "      <td>NaN</td>\n",
              "      <td>NaN</td>\n",
              "      <td>NaN</td>\n",
              "      <td>NaN</td>\n",
              "      <td>NaN</td>\n",
              "      <td>NaN</td>\n",
              "      <td>NaN</td>\n",
              "      <td>NaN</td>\n",
              "      <td>NaN</td>\n",
              "      <td>NaN</td>\n",
              "      <td>NaN</td>\n",
              "      <td>NaN</td>\n",
              "      <td>NaN</td>\n",
              "      <td>NaN</td>\n",
              "      <td>NaN</td>\n",
              "      <td>NaN</td>\n",
              "      <td>NaN</td>\n",
              "      <td>NaN</td>\n",
              "      <td>NaN</td>\n",
              "      <td>NaN</td>\n",
              "      <td>NaN</td>\n",
              "      <td>NaN</td>\n",
              "      <td>NaN</td>\n",
              "      <td>NaN</td>\n",
              "      <td>NaN</td>\n",
              "      <td>NaN</td>\n",
              "      <td>NaN</td>\n",
              "      <td>NaN</td>\n",
              "    </tr>\n",
              "    <tr>\n",
              "      <th>1981.0</th>\n",
              "      <td>35.68</td>\n",
              "      <td>NaN</td>\n",
              "      <td>NaN</td>\n",
              "      <td>NaN</td>\n",
              "      <td>NaN</td>\n",
              "      <td>NaN</td>\n",
              "      <td>NaN</td>\n",
              "      <td>NaN</td>\n",
              "      <td>NaN</td>\n",
              "      <td>NaN</td>\n",
              "      <td>NaN</td>\n",
              "      <td>NaN</td>\n",
              "      <td>NaN</td>\n",
              "      <td>NaN</td>\n",
              "      <td>NaN</td>\n",
              "      <td>NaN</td>\n",
              "      <td>NaN</td>\n",
              "      <td>NaN</td>\n",
              "      <td>NaN</td>\n",
              "      <td>NaN</td>\n",
              "      <td>NaN</td>\n",
              "      <td>NaN</td>\n",
              "      <td>NaN</td>\n",
              "      <td>NaN</td>\n",
              "      <td>NaN</td>\n",
              "      <td>NaN</td>\n",
              "      <td>NaN</td>\n",
              "      <td>NaN</td>\n",
              "      <td>NaN</td>\n",
              "      <td>NaN</td>\n",
              "      <td>NaN</td>\n",
              "    </tr>\n",
              "    <tr>\n",
              "      <th>1982.0</th>\n",
              "      <td>28.88</td>\n",
              "      <td>NaN</td>\n",
              "      <td>NaN</td>\n",
              "      <td>NaN</td>\n",
              "      <td>NaN</td>\n",
              "      <td>NaN</td>\n",
              "      <td>NaN</td>\n",
              "      <td>NaN</td>\n",
              "      <td>NaN</td>\n",
              "      <td>NaN</td>\n",
              "      <td>NaN</td>\n",
              "      <td>NaN</td>\n",
              "      <td>NaN</td>\n",
              "      <td>NaN</td>\n",
              "      <td>NaN</td>\n",
              "      <td>NaN</td>\n",
              "      <td>NaN</td>\n",
              "      <td>NaN</td>\n",
              "      <td>NaN</td>\n",
              "      <td>NaN</td>\n",
              "      <td>NaN</td>\n",
              "      <td>NaN</td>\n",
              "      <td>NaN</td>\n",
              "      <td>NaN</td>\n",
              "      <td>NaN</td>\n",
              "      <td>NaN</td>\n",
              "      <td>NaN</td>\n",
              "      <td>NaN</td>\n",
              "      <td>NaN</td>\n",
              "      <td>NaN</td>\n",
              "      <td>NaN</td>\n",
              "    </tr>\n",
              "    <tr>\n",
              "      <th>1983.0</th>\n",
              "      <td>5.84</td>\n",
              "      <td>NaN</td>\n",
              "      <td>NaN</td>\n",
              "      <td>NaN</td>\n",
              "      <td>NaN</td>\n",
              "      <td>NaN</td>\n",
              "      <td>NaN</td>\n",
              "      <td>NaN</td>\n",
              "      <td>NaN</td>\n",
              "      <td>NaN</td>\n",
              "      <td>NaN</td>\n",
              "      <td>10.96</td>\n",
              "      <td>NaN</td>\n",
              "      <td>NaN</td>\n",
              "      <td>NaN</td>\n",
              "      <td>NaN</td>\n",
              "      <td>NaN</td>\n",
              "      <td>NaN</td>\n",
              "      <td>NaN</td>\n",
              "      <td>NaN</td>\n",
              "      <td>NaN</td>\n",
              "      <td>NaN</td>\n",
              "      <td>NaN</td>\n",
              "      <td>NaN</td>\n",
              "      <td>NaN</td>\n",
              "      <td>NaN</td>\n",
              "      <td>NaN</td>\n",
              "      <td>NaN</td>\n",
              "      <td>NaN</td>\n",
              "      <td>NaN</td>\n",
              "      <td>NaN</td>\n",
              "    </tr>\n",
              "    <tr>\n",
              "      <th>1984.0</th>\n",
              "      <td>0.27</td>\n",
              "      <td>NaN</td>\n",
              "      <td>NaN</td>\n",
              "      <td>NaN</td>\n",
              "      <td>NaN</td>\n",
              "      <td>NaN</td>\n",
              "      <td>NaN</td>\n",
              "      <td>NaN</td>\n",
              "      <td>NaN</td>\n",
              "      <td>NaN</td>\n",
              "      <td>NaN</td>\n",
              "      <td>50.08</td>\n",
              "      <td>NaN</td>\n",
              "      <td>NaN</td>\n",
              "      <td>NaN</td>\n",
              "      <td>NaN</td>\n",
              "      <td>NaN</td>\n",
              "      <td>NaN</td>\n",
              "      <td>NaN</td>\n",
              "      <td>NaN</td>\n",
              "      <td>NaN</td>\n",
              "      <td>NaN</td>\n",
              "      <td>NaN</td>\n",
              "      <td>NaN</td>\n",
              "      <td>NaN</td>\n",
              "      <td>NaN</td>\n",
              "      <td>NaN</td>\n",
              "      <td>NaN</td>\n",
              "      <td>NaN</td>\n",
              "      <td>NaN</td>\n",
              "      <td>NaN</td>\n",
              "    </tr>\n",
              "  </tbody>\n",
              "</table>\n",
              "</div>"
            ],
            "text/plain": [
              "Platform   2600  3DO  3DS  DC  DS  GB  GBA  ...  TG16  WS  Wii  WiiU  X360  XB  XOne\n",
              "Year                                        ...                                     \n",
              "1980.0    11.38  NaN  NaN NaN NaN NaN  NaN  ...   NaN NaN  NaN   NaN   NaN NaN   NaN\n",
              "1981.0    35.68  NaN  NaN NaN NaN NaN  NaN  ...   NaN NaN  NaN   NaN   NaN NaN   NaN\n",
              "1982.0    28.88  NaN  NaN NaN NaN NaN  NaN  ...   NaN NaN  NaN   NaN   NaN NaN   NaN\n",
              "1983.0     5.84  NaN  NaN NaN NaN NaN  NaN  ...   NaN NaN  NaN   NaN   NaN NaN   NaN\n",
              "1984.0     0.27  NaN  NaN NaN NaN NaN  NaN  ...   NaN NaN  NaN   NaN   NaN NaN   NaN\n",
              "\n",
              "[5 rows x 31 columns]"
            ]
          },
          "metadata": {
            "tags": []
          },
          "execution_count": 83
        }
      ]
    },
    {
      "cell_type": "code",
      "metadata": {
        "id": "uK2rlJpnNwx8"
      },
      "source": [
        "# 최근 20년 연도별 게임 플랫폼의 매출 비율\n",
        "df_trend_p['sum'] = df_trend_p.sum(axis=1)\n",
        "for column in df_trend_p.columns:\n",
        "  df_trend_p[column] = df_trend_p[column]/df_trend_p['sum']\n",
        "df_trend_p = df_trend_p.iloc[-20:,:-1]\n",
        "\n",
        "# 최근 20년 연도별 게임 장르별 매출 비율\n",
        "df_trend_p_g['sum'] = df_trend_p_g.sum(axis=1)\n",
        "for column in df_trend_p_g.columns:\n",
        "  df_trend_p_g[column] = df_trend_p_g[column]/df_trend_p_g['sum']\n",
        "df_trend_p_g = df_trend_p_g.iloc[-20:,:-1]\n",
        "\n",
        "df_trend_p\n",
        "df_trend_p['2600'].isin([np.nan])\n",
        "df_trend_p.dropna(how='all',axis=1,inplace=True)\n",
        "# df_trend_p.drop(columns=['2600','3DO','GEN','GG','NES','NG','PCFX'])"
      ],
      "execution_count": 92,
      "outputs": []
    },
    {
      "cell_type": "code",
      "metadata": {
        "colab": {
          "base_uri": "https://localhost:8080/",
          "height": 0
        },
        "id": "NlU1I_YrC-Q5",
        "outputId": "7217ad24-283f-4af6-f42d-cc606d3ce800"
      },
      "source": [
        "import matplotlib.pyplot as plt\n",
        "import seaborn as sns\n",
        "plt.rcParams['figure.figsize'] = [10, 6]\n",
        "\n",
        "# 각 연도별 게임 플랫폼의 매출 비율\n",
        "df_trend_p.plot.bar(stacked=True,figsize=(12,8)).legend(loc='center left',bbox_to_anchor=(1.0, 0.5))\n",
        "plt.title(\"연도별 게임 플랫폼의 매출 비율\")\n",
        "plt.xlabel(\"비율\")\n",
        "plt.ylabel(\"연도\")\n",
        "# 각 연도별 게임 장르별 매출 비율\n",
        "df_trend_p_g.plot.bar(stacked=True,figsize=(12,8)).legend(loc='center left',bbox_to_anchor=(1.0, 0.5))\n",
        "plt.title(\"연도별 게임 장르별 매출 비율\")\n",
        "plt.xlabel(\"비율\")\n",
        "plt.ylabel(\"연도\")"
      ],
      "execution_count": 133,
      "outputs": [
        {
          "output_type": "execute_result",
          "data": {
            "text/plain": [
              "Text(0, 0.5, '연도')"
            ]
          },
          "metadata": {
            "tags": []
          },
          "execution_count": 133
        },
        {
          "output_type": "display_data",
          "data": {
            "image/png": "[encoded data removed]",
            "text/plain": [
              "<Figure size 864x576 with 1 Axes>"
            ]
          },
          "metadata": {
            "tags": [],
            "needs_background": "light"
          }
        },
        {
          "output_type": "display_data",
          "data": {
            "image/png": "[encoded data removed]",
            "text/plain": [
              "<Figure size 864x576 with 1 Axes>"
            ]
          },
          "metadata": {
            "tags": [],
            "needs_background": "light"
          }
        }
      ]
    },
    {
      "cell_type": "markdown",
      "metadata": {
        "id": "lhepBpjmS0Eq"
      },
      "source": [
        "**3. 출고량이 높은 게임에 대한 분석 및 시각화 프로세스**\n",
        "---\n",
        "\n"
      ]
    },
    {
      "cell_type": "code",
      "metadata": {
        "colab": {
          "base_uri": "https://localhost:8080/",
          "height": 0
        },
        "id": "yc8f0DrRSy7a",
        "outputId": "b237140a-5668-4a04-96e3-a80729846b17"
      },
      "source": [
        "# 같은 게임인데, 다른 연도에 플랫폼으로 출시된 게임 정리\n",
        "col = ['Name','NA_Sales','EU_Sales','JP_Sales','Other_Sales','World_Sales']\n",
        "top_df = df[col].groupby(['Name']).sum().sort_values('World_Sales',ascending=False)\n",
        "\n",
        "# 게임의 출시년도, 장르, 제작사 데이터\n",
        "col2 = ['Name','Year','Genre','Publisher']\n",
        "right_df = df[col2].drop_duplicates(['Name'], keep='first')\n",
        "merge_df = pd.merge(right_df,top_df,how='inner',on='Name')\n",
        "# 순위 정리\n",
        "merge_df = merge_df.sort_values('World_Sales',ascending=False)\n",
        "merge_df.reset_index(drop=True,inplace=True)\n",
        "# Top 10 판매량 \n",
        "merge_df_top10 = merge_df.iloc[:20]\n",
        "merge_df_top10"
      ],
      "execution_count": 14,
      "outputs": [
        {
          "output_type": "execute_result",
          "data": {
            "text/html": [
              "<div>\n",
              "<style scoped>\n",
              "    .dataframe tbody tr th:only-of-type {\n",
              "        vertical-align: middle;\n",
              "    }\n",
              "\n",
              "    .dataframe tbody tr th {\n",
              "        vertical-align: top;\n",
              "    }\n",
              "\n",
              "    .dataframe thead th {\n",
              "        text-align: right;\n",
              "    }\n",
              "</style>\n",
              "<table border=\"1\" class=\"dataframe\">\n",
              "  <thead>\n",
              "    <tr style=\"text-align: right;\">\n",
              "      <th></th>\n",
              "      <th>Name</th>\n",
              "      <th>Year</th>\n",
              "      <th>Genre</th>\n",
              "      <th>Publisher</th>\n",
              "      <th>NA_Sales</th>\n",
              "      <th>EU_Sales</th>\n",
              "      <th>JP_Sales</th>\n",
              "      <th>Other_Sales</th>\n",
              "      <th>World_Sales</th>\n",
              "    </tr>\n",
              "  </thead>\n",
              "  <tbody>\n",
              "    <tr>\n",
              "      <th>0</th>\n",
              "      <td>Wii Sports</td>\n",
              "      <td>2006.0</td>\n",
              "      <td>Sports</td>\n",
              "      <td>Nintendo</td>\n",
              "      <td>41.49</td>\n",
              "      <td>29.02</td>\n",
              "      <td>3.77</td>\n",
              "      <td>8.46</td>\n",
              "      <td>82.74</td>\n",
              "    </tr>\n",
              "    <tr>\n",
              "      <th>1</th>\n",
              "      <td>Grand Theft Auto V</td>\n",
              "      <td>2014.0</td>\n",
              "      <td>Action</td>\n",
              "      <td>Take-Two Interactive</td>\n",
              "      <td>23.46</td>\n",
              "      <td>23.04</td>\n",
              "      <td>1.39</td>\n",
              "      <td>8.03</td>\n",
              "      <td>55.92</td>\n",
              "    </tr>\n",
              "    <tr>\n",
              "      <th>2</th>\n",
              "      <td>Super Mario Bros.</td>\n",
              "      <td>1985.0</td>\n",
              "      <td>Platform</td>\n",
              "      <td>Nintendo</td>\n",
              "      <td>32.48</td>\n",
              "      <td>4.88</td>\n",
              "      <td>6.96</td>\n",
              "      <td>0.99</td>\n",
              "      <td>45.31</td>\n",
              "    </tr>\n",
              "    <tr>\n",
              "      <th>3</th>\n",
              "      <td>Tetris</td>\n",
              "      <td>1989.0</td>\n",
              "      <td>Puzzle</td>\n",
              "      <td>Nintendo</td>\n",
              "      <td>26.17</td>\n",
              "      <td>2.95</td>\n",
              "      <td>6.03</td>\n",
              "      <td>0.69</td>\n",
              "      <td>35.84</td>\n",
              "    </tr>\n",
              "    <tr>\n",
              "      <th>4</th>\n",
              "      <td>Mario Kart Wii</td>\n",
              "      <td>2008.0</td>\n",
              "      <td>Racing</td>\n",
              "      <td>Nintendo</td>\n",
              "      <td>15.85</td>\n",
              "      <td>12.88</td>\n",
              "      <td>3.79</td>\n",
              "      <td>3.31</td>\n",
              "      <td>35.83</td>\n",
              "    </tr>\n",
              "    <tr>\n",
              "      <th>5</th>\n",
              "      <td>Wii Sports Resort</td>\n",
              "      <td>2009.0</td>\n",
              "      <td>Sports</td>\n",
              "      <td>Nintendo</td>\n",
              "      <td>15.75</td>\n",
              "      <td>11.01</td>\n",
              "      <td>3.28</td>\n",
              "      <td>2.96</td>\n",
              "      <td>33.00</td>\n",
              "    </tr>\n",
              "    <tr>\n",
              "      <th>6</th>\n",
              "      <td>Pokemon Red/Pokemon Blue</td>\n",
              "      <td>1996.0</td>\n",
              "      <td>Role-Playing</td>\n",
              "      <td>Nintendo</td>\n",
              "      <td>11.27</td>\n",
              "      <td>8.89</td>\n",
              "      <td>10.22</td>\n",
              "      <td>1.00</td>\n",
              "      <td>31.38</td>\n",
              "    </tr>\n",
              "    <tr>\n",
              "      <th>7</th>\n",
              "      <td>Call of Duty: Modern Warfare 3</td>\n",
              "      <td>2011.0</td>\n",
              "      <td>Shooter</td>\n",
              "      <td>Activision</td>\n",
              "      <td>15.58</td>\n",
              "      <td>11.29</td>\n",
              "      <td>0.62</td>\n",
              "      <td>3.35</td>\n",
              "      <td>30.84</td>\n",
              "    </tr>\n",
              "    <tr>\n",
              "      <th>8</th>\n",
              "      <td>New Super Mario Bros.</td>\n",
              "      <td>2006.0</td>\n",
              "      <td>Platform</td>\n",
              "      <td>Nintendo</td>\n",
              "      <td>11.38</td>\n",
              "      <td>9.23</td>\n",
              "      <td>6.50</td>\n",
              "      <td>2.90</td>\n",
              "      <td>30.01</td>\n",
              "    </tr>\n",
              "    <tr>\n",
              "      <th>9</th>\n",
              "      <td>Call of Duty: Black Ops II</td>\n",
              "      <td>2012.0</td>\n",
              "      <td>Shooter</td>\n",
              "      <td>Activision</td>\n",
              "      <td>14.08</td>\n",
              "      <td>11.05</td>\n",
              "      <td>0.72</td>\n",
              "      <td>3.88</td>\n",
              "      <td>29.73</td>\n",
              "    </tr>\n",
              "    <tr>\n",
              "      <th>10</th>\n",
              "      <td>Call of Duty: Black Ops</td>\n",
              "      <td>2010.0</td>\n",
              "      <td>Shooter</td>\n",
              "      <td>Activision</td>\n",
              "      <td>17.01</td>\n",
              "      <td>8.69</td>\n",
              "      <td>0.59</td>\n",
              "      <td>3.12</td>\n",
              "      <td>29.41</td>\n",
              "    </tr>\n",
              "    <tr>\n",
              "      <th>11</th>\n",
              "      <td>Wii Play</td>\n",
              "      <td>2006.0</td>\n",
              "      <td>Misc</td>\n",
              "      <td>Nintendo</td>\n",
              "      <td>14.03</td>\n",
              "      <td>9.20</td>\n",
              "      <td>2.93</td>\n",
              "      <td>2.85</td>\n",
              "      <td>29.01</td>\n",
              "    </tr>\n",
              "    <tr>\n",
              "      <th>12</th>\n",
              "      <td>New Super Mario Bros. Wii</td>\n",
              "      <td>2009.0</td>\n",
              "      <td>Platform</td>\n",
              "      <td>Nintendo</td>\n",
              "      <td>14.59</td>\n",
              "      <td>7.06</td>\n",
              "      <td>4.70</td>\n",
              "      <td>2.26</td>\n",
              "      <td>28.61</td>\n",
              "    </tr>\n",
              "    <tr>\n",
              "      <th>13</th>\n",
              "      <td>Duck Hunt</td>\n",
              "      <td>1984.0</td>\n",
              "      <td>Shooter</td>\n",
              "      <td>Nintendo</td>\n",
              "      <td>26.93</td>\n",
              "      <td>0.63</td>\n",
              "      <td>0.28</td>\n",
              "      <td>0.47</td>\n",
              "      <td>28.31</td>\n",
              "    </tr>\n",
              "    <tr>\n",
              "      <th>14</th>\n",
              "      <td>Call of Duty: Ghosts</td>\n",
              "      <td>2013.0</td>\n",
              "      <td>Shooter</td>\n",
              "      <td>Activision</td>\n",
              "      <td>14.92</td>\n",
              "      <td>9.05</td>\n",
              "      <td>0.48</td>\n",
              "      <td>2.92</td>\n",
              "      <td>27.37</td>\n",
              "    </tr>\n",
              "    <tr>\n",
              "      <th>15</th>\n",
              "      <td>Super Mario World</td>\n",
              "      <td>1990.0</td>\n",
              "      <td>Platform</td>\n",
              "      <td>Nintendo</td>\n",
              "      <td>15.99</td>\n",
              "      <td>4.86</td>\n",
              "      <td>4.49</td>\n",
              "      <td>0.75</td>\n",
              "      <td>26.09</td>\n",
              "    </tr>\n",
              "    <tr>\n",
              "      <th>16</th>\n",
              "      <td>Call of Duty: Black Ops 3</td>\n",
              "      <td>2015.0</td>\n",
              "      <td>Shooter</td>\n",
              "      <td>Activision</td>\n",
              "      <td>11.89</td>\n",
              "      <td>9.56</td>\n",
              "      <td>0.43</td>\n",
              "      <td>3.42</td>\n",
              "      <td>25.30</td>\n",
              "    </tr>\n",
              "    <tr>\n",
              "      <th>17</th>\n",
              "      <td>Call of Duty: Modern Warfare 2</td>\n",
              "      <td>2009.0</td>\n",
              "      <td>Shooter</td>\n",
              "      <td>Activision</td>\n",
              "      <td>13.52</td>\n",
              "      <td>8.11</td>\n",
              "      <td>0.46</td>\n",
              "      <td>3.01</td>\n",
              "      <td>25.10</td>\n",
              "    </tr>\n",
              "    <tr>\n",
              "      <th>18</th>\n",
              "      <td>Nintendogs</td>\n",
              "      <td>2005.0</td>\n",
              "      <td>Simulation</td>\n",
              "      <td>Nintendo</td>\n",
              "      <td>9.07</td>\n",
              "      <td>11.00</td>\n",
              "      <td>1.93</td>\n",
              "      <td>2.75</td>\n",
              "      <td>24.75</td>\n",
              "    </tr>\n",
              "    <tr>\n",
              "      <th>19</th>\n",
              "      <td>Grand Theft Auto: San Andreas</td>\n",
              "      <td>2008.0</td>\n",
              "      <td>Action</td>\n",
              "      <td>Take-Two Interactive</td>\n",
              "      <td>10.77</td>\n",
              "      <td>1.96</td>\n",
              "      <td>0.41</td>\n",
              "      <td>10.72</td>\n",
              "      <td>23.86</td>\n",
              "    </tr>\n",
              "  </tbody>\n",
              "</table>\n",
              "</div>"
            ],
            "text/plain": [
              "                              Name    Year  ... Other_Sales World_Sales\n",
              "0                       Wii Sports  2006.0  ...        8.46       82.74\n",
              "1               Grand Theft Auto V  2014.0  ...        8.03       55.92\n",
              "2                Super Mario Bros.  1985.0  ...        0.99       45.31\n",
              "3                           Tetris  1989.0  ...        0.69       35.84\n",
              "4                   Mario Kart Wii  2008.0  ...        3.31       35.83\n",
              "5                Wii Sports Resort  2009.0  ...        2.96       33.00\n",
              "6         Pokemon Red/Pokemon Blue  1996.0  ...        1.00       31.38\n",
              "7   Call of Duty: Modern Warfare 3  2011.0  ...        3.35       30.84\n",
              "8            New Super Mario Bros.  2006.0  ...        2.90       30.01\n",
              "9       Call of Duty: Black Ops II  2012.0  ...        3.88       29.73\n",
              "10         Call of Duty: Black Ops  2010.0  ...        3.12       29.41\n",
              "11                        Wii Play  2006.0  ...        2.85       29.01\n",
              "12       New Super Mario Bros. Wii  2009.0  ...        2.26       28.61\n",
              "13                       Duck Hunt  1984.0  ...        0.47       28.31\n",
              "14            Call of Duty: Ghosts  2013.0  ...        2.92       27.37\n",
              "15               Super Mario World  1990.0  ...        0.75       26.09\n",
              "16       Call of Duty: Black Ops 3  2015.0  ...        3.42       25.30\n",
              "17  Call of Duty: Modern Warfare 2  2009.0  ...        3.01       25.10\n",
              "18                      Nintendogs  2005.0  ...        2.75       24.75\n",
              "19   Grand Theft Auto: San Andreas  2008.0  ...       10.72       23.86\n",
              "\n",
              "[20 rows x 9 columns]"
            ]
          },
          "metadata": {
            "tags": []
          },
          "execution_count": 14
        }
      ]
    },
    {
      "cell_type": "code",
      "metadata": {
        "id": "bnTuVENXCOfX",
        "outputId": "530694c4-f6c9-4b72-d9f9-e3ec4dcab76f",
        "colab": {
          "base_uri": "https://localhost:8080/",
          "height": 0
        }
      },
      "source": [
        "# Top 10 시각화\n",
        "merge_df_top10 = merge_df.iloc[:20]\n",
        "plt.figure(figsize=(7,7))\n",
        "plt.barh(merge_df_top10['Name'],merge_df_top10['World_Sales'])"
      ],
      "execution_count": 24,
      "outputs": [
        {
          "output_type": "execute_result",
          "data": {
            "text/plain": [
              "<BarContainer object of 20 artists>"
            ]
          },
          "metadata": {
            "tags": []
          },
          "execution_count": 24
        },
        {
          "output_type": "display_data",
          "data": {
            "image/png": "[encoded data removed]",
            "text/plain": [
              "<Figure size 504x504 with 1 Axes>"
            ]
          },
          "metadata": {
            "tags": [],
            "needs_background": "light"
          }
        }
      ]
    },
    {
      "cell_type": "code",
      "metadata": {
        "id": "-xNAIgziG-eH",
        "outputId": "55d7cb9a-9521-4bed-df05-d4a62ae4e24b",
        "colab": {
          "base_uri": "https://localhost:8080/",
          "height": 0
        }
      },
      "source": [
        "merge_df_top10_genre = merge_df_top10.groupby(merge_df_top10['Genre']).sum()\n",
        "merge_df_top10_genre['World_Sales']\n",
        "plt.pie(merge_df_top10_genre['World_Sales'],labels=merge_df_top10_genre.index, autopct='%.1f%%')\n",
        "plt.show()"
      ],
      "execution_count": 16,
      "outputs": [
        {
          "output_type": "display_data",
          "data": {
            "image/png": "[encoded data removed]",
            "text/plain": [
              "<Figure size 720x432 with 1 Axes>"
            ]
          },
          "metadata": {
            "tags": []
          }
        }
      ]
    },
    {
      "cell_type": "code",
      "metadata": {
        "id": "2riIwiWHLWm9",
        "outputId": "9e807e5f-6dd1-49c2-c987-a21ec85ca8e7",
        "colab": {
          "base_uri": "https://localhost:8080/",
          "height": 0
        }
      },
      "source": [
        "merge_df_genre = merge_df.groupby(merge_df['Genre']).sum()\n",
        "plt.pie(merge_df_genre['World_Sales'],labels=merge_df_genre.index, autopct='%.1f%%')\n",
        "plt.show()"
      ],
      "execution_count": 17,
      "outputs": [
        {
          "output_type": "display_data",
          "data": {
            "image/png": "[encoded data removed]",
            "text/plain": [
              "<Figure size 720x432 with 1 Axes>"
            ]
          },
          "metadata": {
            "tags": []
          }
        }
      ]
    },
    {
      "cell_type": "markdown",
      "metadata": {
        "id": "NNf9zqjXaez3"
      },
      "source": [
        "**4. 결론**\n",
        "---"
      ]
    },
    {
      "cell_type": "markdown",
      "metadata": {
        "id": "ut0gRrY3I82O"
      },
      "source": [
        "만약 우리 게임회사가 전사적인 노력을 기울여서 반드시 하나의 게임을 개발해야 한다면?\n",
        "\n",
        "액션게임을 개발해야한다.\\\n",
        "이유 :\n",
        "1. 시장의 크기가 가장 크다. 판매량을 비교해보면 미국과 유럽의 장르별 소비경향이 매우 유사한 것으로 보인다.(상관계수 분석)\\\n",
        "즉 장르를 선택할 때 미국과 유럽을 하나의 시장으로 보고 결정해도 무방하다는 것(미국 유럽 시장 합)\n",
        "\n",
        "2. 트랜드 분석을 통해 액션게임이 2000년대 게임산업을 지배해왔다는 것을 알 수 있다. 또한 최근들어 슈팅게임의 비중이 커지고 있는것을 확인할수 있는데 만약 액션게임에 슈팅요소를 제대로 추가한 게임을 판매할 경우 성공할 가능성을 더 높힐수 있을 것으로 전망된다.\n",
        "\n",
        "3. 세계 Top20 판매된 게임 중에 액션게임은 GTA 시리즈 밖에 없으며, 판매량 비중은 불과 11.8%에 불과하다. \\\n",
        "하지만 전체 게임 판매량 기준으로는 다른 게임의 비중은 낮아지고, 액션게임 판매량 비중이 더 높아져 판매량 비중이 가장 높은 장르가 된다. 즉 Top20에 들지 않는 게임들의 판매량이 높다는 것을 말한다."
      ]
    }
  ]
}