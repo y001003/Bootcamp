{
  "nbformat": 4,
  "nbformat_minor": 0,
  "metadata": {
    "kernelspec": {
      "display_name": "Python 3",
      "language": "python",
      "name": "python3"
    },
    "language_info": {
      "codemirror_mode": {
        "name": "ipython",
        "version": 3
      },
      "file_extension": ".py",
      "mimetype": "text/x-python",
      "name": "python",
      "nbconvert_exporter": "python",
      "pygments_lexer": "ipython3",
      "version": "3.8.2"
    },
    "colab": {
      "name": "ai06_sc23x_박영수_2차제출.ipynb",
      "provenance": [],
      "include_colab_link": true
    }
  },
  "cells": [
    {
      "cell_type": "markdown",
      "metadata": {
        "id": "view-in-github",
        "colab_type": "text"
      },
      "source": [
        "<a href=\"https://colab.research.google.com/github/y001003/Bootcamp/blob/main/ai06_sc23x_%EB%B0%95%EC%98%81%EC%88%98_2%EC%B0%A8%EC%A0%9C%EC%B6%9C.ipynb\" target=\"_parent\"><img src=\"https://colab.research.google.com/assets/colab-badge.svg\" alt=\"Open In Colab\"/></a>"
      ]
    },
    {
      "cell_type": "markdown",
      "metadata": {
        "id": "Kz9V5lVFMo86"
      },
      "source": [
        "# DS SC23x \n",
        "## Applied Predictive Modeling"
      ]
    },
    {
      "cell_type": "markdown",
      "metadata": {
        "id": "yWOjtM9iMo87"
      },
      "source": [
        " 이번 스프린트 챌린지에서는 시카고에 있는 식당들의 정보와 해당 식당들의 위생 검사 결과에 관한 데이터를 담은 데이터셋을 다루게 됩니다.\n",
        "\n",
        "데이터셋에 관한 설명은 이 [PDF](https://data.cityofchicago.org/api/assets/BAD5301B-681A-4202-9D25-51B2CAE672FF)를 참고해주시길 바랍니다."
      ]
    },
    {
      "cell_type": "markdown",
      "metadata": {
        "id": "VvBYdx2xMo88"
      },
      "source": [
        "#### 오늘 여러분은 Chicago시의 공중보건부가 진행한 위생 검사의 실패 여부를 예측하는 모델을 만들어야 합니다.\n",
        "\n",
        "여러분의 모델이 예측할 target은 `Inspection Fail` 칼럼입니다.   \n",
        "칼럼 값은 아래와 같습니다:\n",
        "- 식당이 위생 검사에 불합격한 경우: **1**\n",
        "- 식당이 검사를 통과한 경우: **0**"
      ]
    },
    {
      "cell_type": "code",
      "metadata": {
        "id": "vWyiJKQgF6ax"
      },
      "source": [
        "# Google Colab을 사용하는 경우 해당 셀을 실행하세요\n",
        "%%capture\n",
        "import sys\n",
        "\n",
        "if 'google.colab' in sys.modules:\n",
        "    # Install packages in Colab\n",
        "    !pip install category_encoders==2.*\n",
        "    !pip install eli5\n",
        "    !pip install pandas-profiling==2.*\n",
        "    !pip install pdpbox\n",
        "    !pip install shap"
      ],
      "execution_count": 1,
      "outputs": []
    },
    {
      "cell_type": "code",
      "metadata": {
        "id": "Yyc7zftTMo89"
      },
      "source": [
        "# 데이터셋을 불러오기 위해 판다스 라이브러리를 불러옵니다\n",
        "import pandas as pd\n",
        "\n",
        "train_url = 'https://ds-lecture-data.s3.ap-northeast-2.amazonaws.com/food_inspection_sc23x/food_ins_train.csv'\n",
        "test_url  = 'https://ds-lecture-data.s3.ap-northeast-2.amazonaws.com/food_inspection_sc23x/food_ins_test.csv'\n",
        "\n",
        "# train, test 데이터셋을 불러옵니다\n",
        "train = pd.read_csv(train_url)\n",
        "test  = pd.read_csv(test_url)\n",
        "\n",
        "# 데이터셋 확인\n",
        "assert train.shape == (60000, 17)\n",
        "assert test.shape  == (20000, 17)"
      ],
      "execution_count": 2,
      "outputs": []
    },
    {
      "cell_type": "code",
      "metadata": {
        "id": "udlKLAVUCN5b"
      },
      "source": [
        "# analysis\n",
        "import numpy as np\n",
        "import pandas as pd\n",
        "\n",
        "# Visualization\n",
        "import matplotlib.pyplot as plt\n",
        "import seaborn as sns\n",
        "\n",
        "# sklearn.model_selection\n",
        "from sklearn.model_selection import train_test_split\n",
        "\n",
        "# pipeline\n",
        "from sklearn.pipeline import make_pipeline\n",
        "\n",
        "# encoding\n",
        "from category_encoders import TargetEncoder, OrdinalEncoder\n",
        "\n",
        "# Imputing\n",
        "from sklearn.impute import SimpleImputer, KNNImputer\n",
        "\n",
        "# model\n",
        "from xgboost import XGBClassifier\n",
        "from sklearn.ensemble import RandomForestClassifier \n",
        "\n",
        "# metrics\n",
        "from sklearn.metrics import f1_score, roc_auc_score, classification_report, roc_curve\n",
        "\n",
        "# hyperparameter Tunning\n",
        "from sklearn.model_selection import RandomizedSearchCV\n",
        "\n",
        "# model Visualization\n",
        "import eli5\n",
        "from eli5.sklearn import PermutationImportance\n",
        "import shap\n",
        "from pdpbox.pdp import pdp_isolate, pdp_plot"
      ],
      "execution_count": null,
      "outputs": []
    },
    {
      "cell_type": "markdown",
      "metadata": {
        "id": "muEIQ4EPGVH_"
      },
      "source": [
        "# Part 1: 데이터 전처리 (Data Preprocessing)"
      ]
    },
    {
      "cell_type": "code",
      "metadata": {
        "id": "Ao1PDJtpIWwp"
      },
      "source": [
        "## 1.1 데이터셋을 파악하기 위한 EDA를 진행하세요\n",
        "#> EDA를 하는 방식 및 라이브러리에 대한 제한은 없습니다. 단, 시간 분배에 주의하세요."
      ],
      "execution_count": null,
      "outputs": []
    },
    {
      "cell_type": "code",
      "metadata": {
        "id": "VtNljNJDxurz"
      },
      "source": [
        "# 이 곳에 답안을 작성해주시길 바랍니다"
      ],
      "execution_count": null,
      "outputs": []
    },
    {
      "cell_type": "code",
      "metadata": {
        "colab": {
          "base_uri": "https://localhost:8080/",
          "height": 302
        },
        "id": "NpYIturWx_Nc",
        "outputId": "47af208f-b215-4689-d7bf-1d33d255f364"
      },
      "source": [
        "train.head()"
      ],
      "execution_count": 3,
      "outputs": [
        {
          "output_type": "execute_result",
          "data": {
            "text/html": [
              "<div>\n",
              "<style scoped>\n",
              "    .dataframe tbody tr th:only-of-type {\n",
              "        vertical-align: middle;\n",
              "    }\n",
              "\n",
              "    .dataframe tbody tr th {\n",
              "        vertical-align: top;\n",
              "    }\n",
              "\n",
              "    .dataframe thead th {\n",
              "        text-align: right;\n",
              "    }\n",
              "</style>\n",
              "<table border=\"1\" class=\"dataframe\">\n",
              "  <thead>\n",
              "    <tr style=\"text-align: right;\">\n",
              "      <th></th>\n",
              "      <th>Inspection ID</th>\n",
              "      <th>DBA Name</th>\n",
              "      <th>AKA Name</th>\n",
              "      <th>License #</th>\n",
              "      <th>Facility Type</th>\n",
              "      <th>Risk</th>\n",
              "      <th>Address</th>\n",
              "      <th>City</th>\n",
              "      <th>State</th>\n",
              "      <th>Zip</th>\n",
              "      <th>Inspection Date</th>\n",
              "      <th>Inspection Type</th>\n",
              "      <th>Violations</th>\n",
              "      <th>Latitude</th>\n",
              "      <th>Longitude</th>\n",
              "      <th>Location</th>\n",
              "      <th>Inspection Fail</th>\n",
              "    </tr>\n",
              "  </thead>\n",
              "  <tbody>\n",
              "    <tr>\n",
              "      <th>0</th>\n",
              "      <td>2050629</td>\n",
              "      <td>MY SWEET STATION INC</td>\n",
              "      <td>MY SWEET STATION</td>\n",
              "      <td>2327223.0</td>\n",
              "      <td>Restaurant</td>\n",
              "      <td>Risk 1 (High)</td>\n",
              "      <td>2511 N LINCOLN AVE</td>\n",
              "      <td>CHICAGO</td>\n",
              "      <td>IL</td>\n",
              "      <td>60614.0</td>\n",
              "      <td>2017-05-18</td>\n",
              "      <td>Canvass</td>\n",
              "      <td>NaN</td>\n",
              "      <td>41.927577</td>\n",
              "      <td>-87.651528</td>\n",
              "      <td>(-87.65152817242594, 41.92757677830966)</td>\n",
              "      <td>0</td>\n",
              "    </tr>\n",
              "    <tr>\n",
              "      <th>1</th>\n",
              "      <td>2078428</td>\n",
              "      <td>OUTTAKES</td>\n",
              "      <td>RED MANGO</td>\n",
              "      <td>2125004.0</td>\n",
              "      <td>Restaurant</td>\n",
              "      <td>Risk 2 (Medium)</td>\n",
              "      <td>10 S DEARBORN ST FL</td>\n",
              "      <td>CHICAGO</td>\n",
              "      <td>IL</td>\n",
              "      <td>60603.0</td>\n",
              "      <td>2017-08-14</td>\n",
              "      <td>Canvass</td>\n",
              "      <td>34. FLOORS: CONSTRUCTED PER CODE, CLEANED, GOO...</td>\n",
              "      <td>41.881807</td>\n",
              "      <td>-87.629543</td>\n",
              "      <td>(-87.62954311539407, 41.88180696006542)</td>\n",
              "      <td>0</td>\n",
              "    </tr>\n",
              "    <tr>\n",
              "      <th>2</th>\n",
              "      <td>1591748</td>\n",
              "      <td>JAFFA BAGELS</td>\n",
              "      <td>JAFFA BAGELS</td>\n",
              "      <td>2278918.0</td>\n",
              "      <td>Restaurant</td>\n",
              "      <td>Risk 1 (High)</td>\n",
              "      <td>225 N MICHIGAN AVE</td>\n",
              "      <td>CHICAGO</td>\n",
              "      <td>IL</td>\n",
              "      <td>60601.0</td>\n",
              "      <td>2015-12-15</td>\n",
              "      <td>Complaint</td>\n",
              "      <td>30. FOOD IN ORIGINAL CONTAINER, PROPERLY LABEL...</td>\n",
              "      <td>41.886377</td>\n",
              "      <td>-87.624382</td>\n",
              "      <td>(-87.62438167043969, 41.88637740620821)</td>\n",
              "      <td>0</td>\n",
              "    </tr>\n",
              "    <tr>\n",
              "      <th>3</th>\n",
              "      <td>1230035</td>\n",
              "      <td>FRANKS 'N' DAWGS</td>\n",
              "      <td>FRANKS 'N' DAWGS</td>\n",
              "      <td>2094329.0</td>\n",
              "      <td>Restaurant</td>\n",
              "      <td>Risk 1 (High)</td>\n",
              "      <td>1863 N CLYBOURN AVE</td>\n",
              "      <td>CHICAGO</td>\n",
              "      <td>IL</td>\n",
              "      <td>60614.0</td>\n",
              "      <td>2012-07-10</td>\n",
              "      <td>Canvass</td>\n",
              "      <td>33. FOOD AND NON-FOOD CONTACT EQUIPMENT UTENSI...</td>\n",
              "      <td>41.914990</td>\n",
              "      <td>-87.654994</td>\n",
              "      <td>(-87.65499361162448, 41.91498953039437)</td>\n",
              "      <td>0</td>\n",
              "    </tr>\n",
              "    <tr>\n",
              "      <th>4</th>\n",
              "      <td>1228186</td>\n",
              "      <td>SOUTH COAST</td>\n",
              "      <td>SOUTH COAST SUSHI</td>\n",
              "      <td>1817424.0</td>\n",
              "      <td>Restaurant</td>\n",
              "      <td>Risk 1 (High)</td>\n",
              "      <td>1700 S MICHIGAN AVE</td>\n",
              "      <td>CHICAGO</td>\n",
              "      <td>IL</td>\n",
              "      <td>60616.0</td>\n",
              "      <td>2013-09-20</td>\n",
              "      <td>Canvass</td>\n",
              "      <td>NaN</td>\n",
              "      <td>41.858996</td>\n",
              "      <td>-87.624106</td>\n",
              "      <td>(-87.62410566978502, 41.85899630014676)</td>\n",
              "      <td>0</td>\n",
              "    </tr>\n",
              "  </tbody>\n",
              "</table>\n",
              "</div>"
            ],
            "text/plain": [
              "   Inspection ID  ... Inspection Fail\n",
              "0        2050629  ...               0\n",
              "1        2078428  ...               0\n",
              "2        1591748  ...               0\n",
              "3        1230035  ...               0\n",
              "4        1228186  ...               0\n",
              "\n",
              "[5 rows x 17 columns]"
            ]
          },
          "metadata": {},
          "execution_count": 3
        }
      ]
    },
    {
      "cell_type": "code",
      "metadata": {
        "colab": {
          "base_uri": "https://localhost:8080/"
        },
        "id": "VPVLAzqJyKaU",
        "outputId": "d5e12072-8f79-4592-fb6c-6419db56b7e7"
      },
      "source": [
        "train.info()"
      ],
      "execution_count": 4,
      "outputs": [
        {
          "output_type": "stream",
          "name": "stdout",
          "text": [
            "<class 'pandas.core.frame.DataFrame'>\n",
            "RangeIndex: 60000 entries, 0 to 59999\n",
            "Data columns (total 17 columns):\n",
            " #   Column           Non-Null Count  Dtype  \n",
            "---  ------           --------------  -----  \n",
            " 0   Inspection ID    60000 non-null  int64  \n",
            " 1   DBA Name         60000 non-null  object \n",
            " 2   AKA Name         59283 non-null  object \n",
            " 3   License #        59996 non-null  float64\n",
            " 4   Facility Type    58573 non-null  object \n",
            " 5   Risk             59976 non-null  object \n",
            " 6   Address          60000 non-null  object \n",
            " 7   City             59955 non-null  object \n",
            " 8   State            59985 non-null  object \n",
            " 9   Zip              59987 non-null  float64\n",
            " 10  Inspection Date  60000 non-null  object \n",
            " 11  Inspection Type  60000 non-null  object \n",
            " 12  Violations       44130 non-null  object \n",
            " 13  Latitude         59822 non-null  float64\n",
            " 14  Longitude        59822 non-null  float64\n",
            " 15  Location         59822 non-null  object \n",
            " 16  Inspection Fail  60000 non-null  int64  \n",
            "dtypes: float64(4), int64(2), object(11)\n",
            "memory usage: 7.8+ MB\n"
          ]
        }
      ]
    },
    {
      "cell_type": "code",
      "metadata": {
        "colab": {
          "base_uri": "https://localhost:8080/"
        },
        "id": "YoG1zpHpyOxc",
        "outputId": "91c9fb3a-f998-4b3c-da7f-bf7d58339fc8"
      },
      "source": [
        "test.info()"
      ],
      "execution_count": 5,
      "outputs": [
        {
          "output_type": "stream",
          "name": "stdout",
          "text": [
            "<class 'pandas.core.frame.DataFrame'>\n",
            "RangeIndex: 20000 entries, 0 to 19999\n",
            "Data columns (total 17 columns):\n",
            " #   Column           Non-Null Count  Dtype  \n",
            "---  ------           --------------  -----  \n",
            " 0   Inspection ID    20000 non-null  int64  \n",
            " 1   DBA Name         20000 non-null  object \n",
            " 2   AKA Name         19765 non-null  object \n",
            " 3   License #        20000 non-null  float64\n",
            " 4   Facility Type    19548 non-null  object \n",
            " 5   Risk             19998 non-null  object \n",
            " 6   Address          20000 non-null  object \n",
            " 7   City             19989 non-null  object \n",
            " 8   State            19997 non-null  object \n",
            " 9   Zip              19996 non-null  float64\n",
            " 10  Inspection Date  20000 non-null  object \n",
            " 11  Inspection Type  20000 non-null  object \n",
            " 12  Violations       14664 non-null  object \n",
            " 13  Latitude         19940 non-null  float64\n",
            " 14  Longitude        19940 non-null  float64\n",
            " 15  Location         19940 non-null  object \n",
            " 16  Inspection Fail  20000 non-null  int64  \n",
            "dtypes: float64(4), int64(2), object(11)\n",
            "memory usage: 2.6+ MB\n"
          ]
        }
      ]
    },
    {
      "cell_type": "code",
      "metadata": {
        "colab": {
          "base_uri": "https://localhost:8080/",
          "height": 324
        },
        "id": "mTecl9M7yRtr",
        "outputId": "3d5516a6-3c93-4eb2-fdcb-b6ae1b8a41a5"
      },
      "source": [
        "# target 확인 - train\n",
        "import matplotlib.pyplot as plt\n",
        "\n",
        "plt.subplots(figsize = (5,5))\n",
        "plt.pie(train['Inspection Fail'].value_counts(), labels = train['Inspection Fail'].value_counts().index, \n",
        "        autopct=\"%.1f%%\", shadow = True, startangle = 90)\n",
        "plt.title('Train Target: Inspection Fail', size=20)\n",
        "plt.show()"
      ],
      "execution_count": 6,
      "outputs": [
        {
          "output_type": "display_data",
          "data": {
            "image/png": "[encoded data removed]",
            "text/plain": [
              "<Figure size 360x360 with 1 Axes>"
            ]
          },
          "metadata": {}
        }
      ]
    },
    {
      "cell_type": "code",
      "metadata": {
        "colab": {
          "base_uri": "https://localhost:8080/",
          "height": 324
        },
        "id": "DyNXwRsny0ec",
        "outputId": "e8c070ea-0fe2-480a-806e-bb3d0dddc71c"
      },
      "source": [
        "# target 확인 - train\n",
        "import matplotlib.pyplot as plt\n",
        "\n",
        "plt.subplots(figsize = (5,5))\n",
        "plt.pie(train['Inspection Fail'].value_counts(), labels = train['Inspection Fail'].value_counts().index, \n",
        "        autopct=\"%.1f%%\", shadow = True, startangle = 90)\n",
        "plt.title('Train Target: Inspection Fail', size=20)\n",
        "plt.show()"
      ],
      "execution_count": 7,
      "outputs": [
        {
          "output_type": "display_data",
          "data": {
            "image/png": "[encoded data removed]",
            "text/plain": [
              "<Figure size 360x360 with 1 Axes>"
            ]
          },
          "metadata": {}
        }
      ]
    },
    {
      "cell_type": "code",
      "metadata": {
        "colab": {
          "base_uri": "https://localhost:8080/"
        },
        "id": "rhBEDUp1y4LF",
        "outputId": "686acbd7-a34c-42e0-b528-7b9249db8fdb"
      },
      "source": [
        "# 결측치 확인\n",
        "train.isnull().sum(), test.isnull().sum()"
      ],
      "execution_count": 9,
      "outputs": [
        {
          "output_type": "execute_result",
          "data": {
            "text/plain": [
              "(Inspection ID          0\n",
              " DBA Name               0\n",
              " AKA Name             717\n",
              " License #              4\n",
              " Facility Type       1427\n",
              " Risk                  24\n",
              " Address                0\n",
              " City                  45\n",
              " State                 15\n",
              " Zip                   13\n",
              " Inspection Date        0\n",
              " Inspection Type        0\n",
              " Violations         15870\n",
              " Latitude             178\n",
              " Longitude            178\n",
              " Location             178\n",
              " Inspection Fail        0\n",
              " dtype: int64, Inspection ID         0\n",
              " DBA Name              0\n",
              " AKA Name            235\n",
              " License #             0\n",
              " Facility Type       452\n",
              " Risk                  2\n",
              " Address               0\n",
              " City                 11\n",
              " State                 3\n",
              " Zip                   4\n",
              " Inspection Date       0\n",
              " Inspection Type       0\n",
              " Violations         5336\n",
              " Latitude             60\n",
              " Longitude            60\n",
              " Location             60\n",
              " Inspection Fail       0\n",
              " dtype: int64)"
            ]
          },
          "metadata": {},
          "execution_count": 9
        }
      ]
    },
    {
      "cell_type": "code",
      "metadata": {
        "colab": {
          "base_uri": "https://localhost:8080/"
        },
        "id": "dy1Jg2hnzJtD",
        "outputId": "7a48e87c-637f-40cf-8efb-4e093621c846"
      },
      "source": [
        "# 중복값 확인\n",
        "train.duplicated().sum(), test.duplicated().sum()"
      ],
      "execution_count": 10,
      "outputs": [
        {
          "output_type": "execute_result",
          "data": {
            "text/plain": [
              "(0, 0)"
            ]
          },
          "metadata": {},
          "execution_count": 10
        }
      ]
    },
    {
      "cell_type": "code",
      "metadata": {
        "colab": {
          "base_uri": "https://localhost:8080/",
          "height": 570
        },
        "id": "gnwxvv8FzSkh",
        "outputId": "89e01d72-23d6-476c-eaf0-64c13c19c8e3"
      },
      "source": [
        "# Cardinality 확인\n",
        "train.describe(include=\"all\").T.sort_values(\"unique\", ascending=False)"
      ],
      "execution_count": 11,
      "outputs": [
        {
          "output_type": "execute_result",
          "data": {
            "text/html": [
              "<div>\n",
              "<style scoped>\n",
              "    .dataframe tbody tr th:only-of-type {\n",
              "        vertical-align: middle;\n",
              "    }\n",
              "\n",
              "    .dataframe tbody tr th {\n",
              "        vertical-align: top;\n",
              "    }\n",
              "\n",
              "    .dataframe thead th {\n",
              "        text-align: right;\n",
              "    }\n",
              "</style>\n",
              "<table border=\"1\" class=\"dataframe\">\n",
              "  <thead>\n",
              "    <tr style=\"text-align: right;\">\n",
              "      <th></th>\n",
              "      <th>count</th>\n",
              "      <th>unique</th>\n",
              "      <th>top</th>\n",
              "      <th>freq</th>\n",
              "      <th>mean</th>\n",
              "      <th>std</th>\n",
              "      <th>min</th>\n",
              "      <th>25%</th>\n",
              "      <th>50%</th>\n",
              "      <th>75%</th>\n",
              "      <th>max</th>\n",
              "    </tr>\n",
              "  </thead>\n",
              "  <tbody>\n",
              "    <tr>\n",
              "      <th>Violations</th>\n",
              "      <td>44130</td>\n",
              "      <td>44035</td>\n",
              "      <td>45. FOOD HANDLER REQUIREMENTS MET - Comments: ...</td>\n",
              "      <td>3</td>\n",
              "      <td>NaN</td>\n",
              "      <td>NaN</td>\n",
              "      <td>NaN</td>\n",
              "      <td>NaN</td>\n",
              "      <td>NaN</td>\n",
              "      <td>NaN</td>\n",
              "      <td>NaN</td>\n",
              "    </tr>\n",
              "    <tr>\n",
              "      <th>DBA Name</th>\n",
              "      <td>60000</td>\n",
              "      <td>20175</td>\n",
              "      <td>SUBWAY</td>\n",
              "      <td>830</td>\n",
              "      <td>NaN</td>\n",
              "      <td>NaN</td>\n",
              "      <td>NaN</td>\n",
              "      <td>NaN</td>\n",
              "      <td>NaN</td>\n",
              "      <td>NaN</td>\n",
              "      <td>NaN</td>\n",
              "    </tr>\n",
              "    <tr>\n",
              "      <th>AKA Name</th>\n",
              "      <td>59283</td>\n",
              "      <td>19209</td>\n",
              "      <td>SUBWAY</td>\n",
              "      <td>1014</td>\n",
              "      <td>NaN</td>\n",
              "      <td>NaN</td>\n",
              "      <td>NaN</td>\n",
              "      <td>NaN</td>\n",
              "      <td>NaN</td>\n",
              "      <td>NaN</td>\n",
              "      <td>NaN</td>\n",
              "    </tr>\n",
              "    <tr>\n",
              "      <th>Address</th>\n",
              "      <td>60000</td>\n",
              "      <td>15244</td>\n",
              "      <td>11601 W TOUHY AVE</td>\n",
              "      <td>755</td>\n",
              "      <td>NaN</td>\n",
              "      <td>NaN</td>\n",
              "      <td>NaN</td>\n",
              "      <td>NaN</td>\n",
              "      <td>NaN</td>\n",
              "      <td>NaN</td>\n",
              "      <td>NaN</td>\n",
              "    </tr>\n",
              "    <tr>\n",
              "      <th>Location</th>\n",
              "      <td>59822</td>\n",
              "      <td>14533</td>\n",
              "      <td>(-87.91442843927047, 42.008536400868735)</td>\n",
              "      <td>760</td>\n",
              "      <td>NaN</td>\n",
              "      <td>NaN</td>\n",
              "      <td>NaN</td>\n",
              "      <td>NaN</td>\n",
              "      <td>NaN</td>\n",
              "      <td>NaN</td>\n",
              "      <td>NaN</td>\n",
              "    </tr>\n",
              "    <tr>\n",
              "      <th>Inspection Date</th>\n",
              "      <td>60000</td>\n",
              "      <td>2667</td>\n",
              "      <td>2013-11-14</td>\n",
              "      <td>57</td>\n",
              "      <td>NaN</td>\n",
              "      <td>NaN</td>\n",
              "      <td>NaN</td>\n",
              "      <td>NaN</td>\n",
              "      <td>NaN</td>\n",
              "      <td>NaN</td>\n",
              "      <td>NaN</td>\n",
              "    </tr>\n",
              "    <tr>\n",
              "      <th>Facility Type</th>\n",
              "      <td>58573</td>\n",
              "      <td>366</td>\n",
              "      <td>Restaurant</td>\n",
              "      <td>39922</td>\n",
              "      <td>NaN</td>\n",
              "      <td>NaN</td>\n",
              "      <td>NaN</td>\n",
              "      <td>NaN</td>\n",
              "      <td>NaN</td>\n",
              "      <td>NaN</td>\n",
              "      <td>NaN</td>\n",
              "    </tr>\n",
              "    <tr>\n",
              "      <th>Inspection Type</th>\n",
              "      <td>60000</td>\n",
              "      <td>55</td>\n",
              "      <td>Canvass</td>\n",
              "      <td>31913</td>\n",
              "      <td>NaN</td>\n",
              "      <td>NaN</td>\n",
              "      <td>NaN</td>\n",
              "      <td>NaN</td>\n",
              "      <td>NaN</td>\n",
              "      <td>NaN</td>\n",
              "      <td>NaN</td>\n",
              "    </tr>\n",
              "    <tr>\n",
              "      <th>City</th>\n",
              "      <td>59955</td>\n",
              "      <td>39</td>\n",
              "      <td>CHICAGO</td>\n",
              "      <td>59771</td>\n",
              "      <td>NaN</td>\n",
              "      <td>NaN</td>\n",
              "      <td>NaN</td>\n",
              "      <td>NaN</td>\n",
              "      <td>NaN</td>\n",
              "      <td>NaN</td>\n",
              "      <td>NaN</td>\n",
              "    </tr>\n",
              "    <tr>\n",
              "      <th>Risk</th>\n",
              "      <td>59976</td>\n",
              "      <td>4</td>\n",
              "      <td>Risk 1 (High)</td>\n",
              "      <td>42839</td>\n",
              "      <td>NaN</td>\n",
              "      <td>NaN</td>\n",
              "      <td>NaN</td>\n",
              "      <td>NaN</td>\n",
              "      <td>NaN</td>\n",
              "      <td>NaN</td>\n",
              "      <td>NaN</td>\n",
              "    </tr>\n",
              "    <tr>\n",
              "      <th>State</th>\n",
              "      <td>59985</td>\n",
              "      <td>3</td>\n",
              "      <td>IL</td>\n",
              "      <td>59983</td>\n",
              "      <td>NaN</td>\n",
              "      <td>NaN</td>\n",
              "      <td>NaN</td>\n",
              "      <td>NaN</td>\n",
              "      <td>NaN</td>\n",
              "      <td>NaN</td>\n",
              "      <td>NaN</td>\n",
              "    </tr>\n",
              "    <tr>\n",
              "      <th>Inspection ID</th>\n",
              "      <td>60000</td>\n",
              "      <td>NaN</td>\n",
              "      <td>NaN</td>\n",
              "      <td>NaN</td>\n",
              "      <td>1.50722e+06</td>\n",
              "      <td>654154</td>\n",
              "      <td>44247</td>\n",
              "      <td>1.17425e+06</td>\n",
              "      <td>1.51581e+06</td>\n",
              "      <td>2.08182e+06</td>\n",
              "      <td>2.40205e+06</td>\n",
              "    </tr>\n",
              "    <tr>\n",
              "      <th>License #</th>\n",
              "      <td>59996</td>\n",
              "      <td>NaN</td>\n",
              "      <td>NaN</td>\n",
              "      <td>NaN</td>\n",
              "      <td>1.61948e+06</td>\n",
              "      <td>902099</td>\n",
              "      <td>0</td>\n",
              "      <td>1.24305e+06</td>\n",
              "      <td>1.98622e+06</td>\n",
              "      <td>2.26282e+06</td>\n",
              "      <td>3.86927e+06</td>\n",
              "    </tr>\n",
              "    <tr>\n",
              "      <th>Zip</th>\n",
              "      <td>59987</td>\n",
              "      <td>NaN</td>\n",
              "      <td>NaN</td>\n",
              "      <td>NaN</td>\n",
              "      <td>60628.9</td>\n",
              "      <td>69.7096</td>\n",
              "      <td>46319</td>\n",
              "      <td>60614</td>\n",
              "      <td>60625</td>\n",
              "      <td>60643</td>\n",
              "      <td>60827</td>\n",
              "    </tr>\n",
              "    <tr>\n",
              "      <th>Latitude</th>\n",
              "      <td>59822</td>\n",
              "      <td>NaN</td>\n",
              "      <td>NaN</td>\n",
              "      <td>NaN</td>\n",
              "      <td>41.881</td>\n",
              "      <td>0.0812432</td>\n",
              "      <td>41.6447</td>\n",
              "      <td>41.8321</td>\n",
              "      <td>41.8922</td>\n",
              "      <td>41.9398</td>\n",
              "      <td>42.0211</td>\n",
              "    </tr>\n",
              "    <tr>\n",
              "      <th>Longitude</th>\n",
              "      <td>59822</td>\n",
              "      <td>NaN</td>\n",
              "      <td>NaN</td>\n",
              "      <td>NaN</td>\n",
              "      <td>-87.6766</td>\n",
              "      <td>0.0584833</td>\n",
              "      <td>-87.9144</td>\n",
              "      <td>-87.7073</td>\n",
              "      <td>-87.6668</td>\n",
              "      <td>-87.6351</td>\n",
              "      <td>-87.5251</td>\n",
              "    </tr>\n",
              "    <tr>\n",
              "      <th>Inspection Fail</th>\n",
              "      <td>60000</td>\n",
              "      <td>NaN</td>\n",
              "      <td>NaN</td>\n",
              "      <td>NaN</td>\n",
              "      <td>0.195267</td>\n",
              "      <td>0.396409</td>\n",
              "      <td>0</td>\n",
              "      <td>0</td>\n",
              "      <td>0</td>\n",
              "      <td>0</td>\n",
              "      <td>1</td>\n",
              "    </tr>\n",
              "  </tbody>\n",
              "</table>\n",
              "</div>"
            ],
            "text/plain": [
              "                 count unique  ...          75%          max\n",
              "Violations       44130  44035  ...          NaN          NaN\n",
              "DBA Name         60000  20175  ...          NaN          NaN\n",
              "AKA Name         59283  19209  ...          NaN          NaN\n",
              "Address          60000  15244  ...          NaN          NaN\n",
              "Location         59822  14533  ...          NaN          NaN\n",
              "Inspection Date  60000   2667  ...          NaN          NaN\n",
              "Facility Type    58573    366  ...          NaN          NaN\n",
              "Inspection Type  60000     55  ...          NaN          NaN\n",
              "City             59955     39  ...          NaN          NaN\n",
              "Risk             59976      4  ...          NaN          NaN\n",
              "State            59985      3  ...          NaN          NaN\n",
              "Inspection ID    60000    NaN  ...  2.08182e+06  2.40205e+06\n",
              "License #        59996    NaN  ...  2.26282e+06  3.86927e+06\n",
              "Zip              59987    NaN  ...        60643        60827\n",
              "Latitude         59822    NaN  ...      41.9398      42.0211\n",
              "Longitude        59822    NaN  ...     -87.6351     -87.5251\n",
              "Inspection Fail  60000    NaN  ...            0            1\n",
              "\n",
              "[17 rows x 11 columns]"
            ]
          },
          "metadata": {},
          "execution_count": 11
        }
      ]
    },
    {
      "cell_type": "markdown",
      "metadata": {
        "id": "fzPtzgXtxurz"
      },
      "source": [
        "## 1.2 EDA의 결과를 토대로 Feature Engineering 및 Preprocessing을 진행하세요\n",
        "> 새로운 feature를 만드는 작업뿐만이 아니라, 필요한 feature가 적절한 데이터 타입을 가지고 있지 않다면 변환합니다"
      ]
    },
    {
      "cell_type": "code",
      "metadata": {
        "id": "vS-Kg9Zgxur0"
      },
      "source": [
        "# 이 곳에 답안을 작성해주시길 바랍니다"
      ],
      "execution_count": null,
      "outputs": []
    },
    {
      "cell_type": "code",
      "metadata": {
        "id": "LLTbqtFZ84Ha"
      },
      "source": [
        "def eda_process(df):\n",
        "\n",
        "  # 복사\n",
        "  df_temp = df.copy()\n",
        "\n",
        "  # City 컬럼 처리 : City_chicago 칼럼을 만들어서 Chicago가 맞는 곳 1 과 아닌 곳 0 으로 구분\n",
        "  Chicago_list = [\"CHICAGO\", \"312CHICAGO\", \"CHCICAGO\",\"CHICAGO.\", \"CHICAGOI\", \"CHICAGOCHICAGO\", \"CCHICAGO\"]\n",
        "  df_temp[\"City\"] = df_temp[\"City\"].str.upper()\n",
        "  df_temp[\"City_Chicago\"] = [1 if i in Chicago_list \n",
        "                             else 0 \n",
        "                             for i in df_temp['City']]\n",
        "  \n",
        "  # Inspection date를 string에서 datetime으로 바꾼 후 연도, 월 추출\n",
        "  df_temp[\"Inspection Date\"] = train['Inspection Date'].apply(pd.to_datetime)\n",
        "  df_temp[\"year\"] = df_temp[\"Inspection Date\"].dt.year\n",
        "  df_temp[\"month\"] = df_temp[\"Inspection Date\"].dt.month  \n",
        "  \n",
        "\n",
        "\n",
        "  "
      ],
      "execution_count": null,
      "outputs": []
    },
    {
      "cell_type": "code",
      "metadata": {
        "id": "kynFKdND1QNc"
      },
      "source": [
        "train['City'] = train['City'].str.upper()"
      ],
      "execution_count": 17,
      "outputs": []
    },
    {
      "cell_type": "code",
      "metadata": {
        "colab": {
          "base_uri": "https://localhost:8080/"
        },
        "id": "Z2i4X4M98nGG",
        "outputId": "5faddd6e-6159-4a6b-9ce1-a1f10297a5fd"
      },
      "source": [
        "train['City'].unique()"
      ],
      "execution_count": 18,
      "outputs": [
        {
          "output_type": "execute_result",
          "data": {
            "text/plain": [
              "array(['CHICAGO', 'CICERO', 'NILES NILES', 'MAYWOOD', 'INACTIVE', nan,\n",
              "       'CHICAGOCHICAGO', 'EVANSTON', 'ELK GROVE VILLAGE', 'CHCICAGO',\n",
              "       'OAK PARK', 'CCHICAGO', 'ROSEMONT', 'LAKE ZURICH',\n",
              "       'EAST HAZEL CREST', 'BURNHAM', 'CHARLES A HAYES', '312CHICAGO',\n",
              "       'SKOKIE', 'GRIFFITH', 'SCHAUMBURG', 'BOLINGBROOK', 'HIGHLAND PARK',\n",
              "       'ELMHURST', 'PLAINFIELD', 'WHEATON', 'CALUMET CITY', 'STREAMWOOD',\n",
              "       'CHICAGO.', 'SUMMIT', 'BRIDGEVIEW', 'WESTMONT', 'WORTH',\n",
              "       'NEW HOLSTEIN', 'BANNOCKBURNDEERFIELD', 'ALSIP', 'CHICAGOI'],\n",
              "      dtype=object)"
            ]
          },
          "metadata": {},
          "execution_count": 18
        }
      ]
    },
    {
      "cell_type": "code",
      "metadata": {
        "colab": {
          "base_uri": "https://localhost:8080/"
        },
        "id": "HRXvEJpL7dhS",
        "outputId": "f9e1157e-c390-49f3-a318-8be553f8a840"
      },
      "source": [
        "Chicago_list = [\"CHICAGO\", \"312CHICAGO\", \"CHCICAGO\",\"CHICAGO.\", \"CHICAGOI\", \"CHICAGOCHICAGO\", \"CCHICAGO\"]\n",
        "train['City_Chicago'] = [1 if i in Chicago_list\n",
        "                         else 0\n",
        "                         for i in train['City']]\n",
        "\n",
        "train['City_Chicago'].value_counts()"
      ],
      "execution_count": 28,
      "outputs": [
        {
          "output_type": "execute_result",
          "data": {
            "text/plain": [
              "1    59906\n",
              "0       94\n",
              "Name: City_Chicago, dtype: int64"
            ]
          },
          "metadata": {},
          "execution_count": 28
        }
      ]
    },
    {
      "cell_type": "markdown",
      "metadata": {
        "id": "nB8CQnExGqzr"
      },
      "source": [
        "# Part 2: 모델링 (Modeling)"
      ]
    },
    {
      "cell_type": "markdown",
      "metadata": {
        "id": "tmQvD0twxur0"
      },
      "source": [
        "## 2.1 검증 방식 (Cross-validation / Hold-out validation)을 정한 후 데이터셋을 목적에 맞게 분할하세요"
      ]
    },
    {
      "cell_type": "code",
      "metadata": {
        "id": "YQ3hD2G1IbVH"
      },
      "source": [
        "# 이 곳에 답안을 작성해주시길 바랍니다"
      ],
      "execution_count": null,
      "outputs": []
    },
    {
      "cell_type": "markdown",
      "metadata": {
        "id": "fFymbNEQxur1"
      },
      "source": [
        "## 2.2 모델 학습을 위한 파이프라인을 구축 후 학습(fit)까지 진행하세요\n",
        "> 모델은 scikit-learn, xgboost 등 어떤 라이브러리를 사용하셔도 괜찮지만 특정 라이브러리는 설치 및 설정에 시간이 소요되는 점을 감안하시기 바랍니다"
      ]
    },
    {
      "cell_type": "code",
      "metadata": {
        "id": "XyJZQ9Fsxur1"
      },
      "source": [
        "# 이 곳에 답안을 작성해주시길 바랍니다"
      ],
      "execution_count": null,
      "outputs": []
    },
    {
      "cell_type": "markdown",
      "metadata": {
        "id": "6DBRv9qXxur1"
      },
      "source": [
        "## 2.3 테스트셋의 ROC / AUC 검증 점수를 예측합니다\n",
        "> 제작한 모델을 활용해서 테스트셋의 **확률**을 예측하세요 (`ROC/AUC 검증 점수`를 **0.65 혹은 그 이상** 달성한다면 매우 훌륭한 모델입니다)"
      ]
    },
    {
      "cell_type": "code",
      "metadata": {
        "id": "_KJ2RIx-xur1"
      },
      "source": [
        "# 이 곳에 답안을 작성해주시길 바랍니다"
      ],
      "execution_count": null,
      "outputs": []
    },
    {
      "cell_type": "markdown",
      "metadata": {
        "id": "d0EW-M1-xur1"
      },
      "source": [
        "## 2.4 하이퍼 파라미터 튜닝을 통해서 모델을 개선하세요\n",
        "> `RandomSearchCV`, `GridSearchCV` 등을 활용해서 모델의 성능을 개선합니다. 범위 설정에 따라 시간이 매우 소요될 수 있습니다."
      ]
    },
    {
      "cell_type": "code",
      "metadata": {
        "id": "Pd3UVAfkxur1"
      },
      "source": [
        "# 이 곳에 답안을 작성해주시길 바랍니다"
      ],
      "execution_count": null,
      "outputs": []
    },
    {
      "cell_type": "markdown",
      "metadata": {
        "id": "u98nLGBTMo9s"
      },
      "source": [
        "## Part 3: 시각화 (Visualization)\n",
        "\n",
        "> 모델의 해석을 위한 시각화를 해주세요. 아래의 제시 된 종류 중 2가지를 선택하세요 (시각화에 가장 중요한 것은 **여러분의 분석**입니다.):\n",
        "> - Permutation Importances\n",
        "> - Partial Dependence Plot, 1 feature isolation\n",
        "> - Partial Dependence Plot, 2 features interaction\n",
        "> - Shapley Values"
      ]
    },
    {
      "cell_type": "code",
      "metadata": {
        "id": "_Q379i5CIeKY"
      },
      "source": [
        "# 이 곳에 답안을 작성해주시길 바랍니다"
      ],
      "execution_count": null,
      "outputs": []
    }
  ]
}